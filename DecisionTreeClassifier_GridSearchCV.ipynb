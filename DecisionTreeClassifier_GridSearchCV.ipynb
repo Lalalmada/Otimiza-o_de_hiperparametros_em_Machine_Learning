{
  "nbformat": 4,
  "nbformat_minor": 0,
  "metadata": {
    "colab": {
      "name": "DecisionTreeClassifier_GridSearchCV.ipynb",
      "provenance": []
    },
    "kernelspec": {
      "name": "python3",
      "display_name": "Python 3"
    },
    "language_info": {
      "name": "python"
    }
  },
  "cells": [
    {
      "cell_type": "markdown",
      "source": [
        "**Realizando os devidos imports**"
      ],
      "metadata": {
        "id": "hLbr6QcsZuR1"
      }
    },
    {
      "cell_type": "code",
      "execution_count": 36,
      "metadata": {
        "id": "Ma-O7my3Nveh"
      },
      "outputs": [],
      "source": [
        "import pandas as pd\n",
        "from sklearn.datasets import fetch_openml\n",
        "import matplotlib.pyplot as plt\n",
        "import seaborn as sns\n",
        "from sklearn.linear_model import LogisticRegression\n",
        "from sklearn.metrics import classification_report, confusion_matrix\n",
        "from sklearn.model_selection import train_test_split\n",
        "from sklearn.preprocessing import StandardScaler\n",
        "from sklearn.neural_network import MLPClassifier\n",
        "from sklearn.neighbors import KNeighborsClassifier\n",
        "from sklearn.svm import SVC\n",
        "from sklearn.gaussian_process import GaussianProcessClassifier\n",
        "from sklearn.gaussian_process.kernels import RBF\n",
        "from sklearn.tree import DecisionTreeClassifier\n",
        "from sklearn.ensemble import RandomForestClassifier, AdaBoostClassifier, GradientBoostingClassifier\n",
        "from sklearn.naive_bayes import GaussianNB\n",
        "from sklearn.discriminant_analysis import QuadraticDiscriminantAnalysis\n",
        "import numpy as np\n",
        "from sklearn import datasets\n",
        "from sklearn.model_selection import KFold, cross_val_score, GridSearchCV, cross_validate, train_test_split\n",
        "from sklearn.metrics import roc_curve, roc_auc_score, precision_recall_curve, f1_score, auc\n",
        "from sklearn.metrics import classification_report\n",
        "from sklearn.metrics import confusion_matrix"
      ]
    },
    {
      "cell_type": "code",
      "source": [
        "from sklearn.datasets import load_iris\n",
        "from sklearn.model_selection import cross_val_score\n",
        "from sklearn.tree import DecisionTreeClassifier"
      ],
      "metadata": {
        "id": "MjhvKTX9th4I"
      },
      "execution_count": 2,
      "outputs": []
    },
    {
      "cell_type": "code",
      "source": [
        "\n",
        "# Importação GridSearchCV.\n",
        "from sklearn.model_selection import GridSearchCV"
      ],
      "metadata": {
        "id": "QUluJyRfZ2Ka"
      },
      "execution_count": 3,
      "outputs": []
    },
    {
      "cell_type": "code",
      "source": [
        "#from google.colab import files\n",
        "#uploaded = files.upload()"
      ],
      "metadata": {
        "id": "X2t25_XRN2j1"
      },
      "execution_count": null,
      "outputs": []
    },
    {
      "cell_type": "markdown",
      "source": [
        "**Carregando o dataset**\n",
        "\n",
        "O data set aqui escolhido foi o famoso brest_cancer"
      ],
      "metadata": {
        "id": "bQ2C2SbqZ35h"
      }
    },
    {
      "cell_type": "code",
      "source": [
        "# Dados de Câncer de mama.\n",
        "cancer = datasets.load_breast_cancer()\n",
        "\n",
        "# Criação do dataset features e vetor labels.\n",
        "features = cancer.data\n",
        "labels = cancer.target"
      ],
      "metadata": {
        "id": "rgcPv0pMa9Zz"
      },
      "execution_count": 4,
      "outputs": []
    },
    {
      "cell_type": "code",
      "source": [
        "# Só para evitar a aparição dos warnings.\n",
        "import warnings\n",
        "warnings.filterwarnings('ignore')"
      ],
      "metadata": {
        "id": "ta3--hXkN3IF"
      },
      "execution_count": 5,
      "outputs": []
    },
    {
      "cell_type": "markdown",
      "source": [
        "**Aqui chamamos o modelo do classificador Árvore de Decisão**\n"
      ],
      "metadata": {
        "id": "dNS565wVZGTN"
      }
    },
    {
      "cell_type": "code",
      "source": [
        "# Sem nada dentro, pois vamos \"variar\" os parâmetros.\n",
        "clf = DecisionTreeClassifier(random_state=0)  \n",
        "iris = load_iris()\n"
      ],
      "metadata": {
        "id": "_ue08pNUN3lv"
      },
      "execution_count": 6,
      "outputs": []
    },
    {
      "cell_type": "code",
      "source": [
        "cross_val_score(clf, iris.data, iris.target, cv=10)"
      ],
      "metadata": {
        "colab": {
          "base_uri": "https://localhost:8080/"
        },
        "id": "qX9esclkuHKm",
        "outputId": "ce0113ca-5497-4f24-9f98-a339a047548d"
      },
      "execution_count": 7,
      "outputs": [
        {
          "output_type": "execute_result",
          "data": {
            "text/plain": [
              "array([1.        , 0.93333333, 1.        , 0.93333333, 0.93333333,\n",
              "       0.86666667, 0.93333333, 1.        , 1.        , 1.        ])"
            ]
          },
          "metadata": {},
          "execution_count": 7
        }
      ]
    },
    {
      "cell_type": "markdown",
      "source": [
        "**Separando os dados de treino e dados de teste**"
      ],
      "metadata": {
        "id": "Uiu6CwhjaTyY"
      }
    },
    {
      "cell_type": "code",
      "source": [
        "X_tr, X_ts, y_tr, y_ts= train_test_split( features, labels, test_size=0.30, random_state=42)"
      ],
      "metadata": {
        "id": "PhK-vNZZu81r"
      },
      "execution_count": 8,
      "outputs": []
    },
    {
      "cell_type": "markdown",
      "source": [
        "Criação de Combinações de Parâmetros\n",
        "Com base numa “lista”” de parâmetros o GridSearchCV criará as combinações e depois as avaliará, por exemplo, quero testar alguns valores de parâmetros de um AdaBoost. Os valores desta “lista” foram arbitrariamente escolhidos e sem nenhum critério técnico, o objetivo é encontrar valores otimizados.\n",
        "\n"
      ],
      "metadata": {
        "id": "QSkjx1NWZQiK"
      }
    },
    {
      "cell_type": "markdown",
      "source": [
        "**Estabelecimento dos parametros para uso no gridSearcCV**"
      ],
      "metadata": {
        "id": "jp_iom0lacoB"
      }
    },
    {
      "cell_type": "code",
      "source": [
        "# Exemplo dos parâmetros que quero testar.\n",
        "parametros = { 'criterion':['entropy','gini'],\n",
        "              'max_depth':[20,25,30],\n",
        "              'max_features':['auto','sqrt','log2']}"
      ],
      "metadata": {
        "id": "wxNeXkC_N3pZ"
      },
      "execution_count": 9,
      "outputs": []
    },
    {
      "cell_type": "markdown",
      "source": [
        "**Função GridSearch que recebe o modelo, parametros, scoring e o número de validações cruzadas a serem feitas**"
      ],
      "metadata": {
        "id": "3EZQG7PMakzh"
      }
    },
    {
      "cell_type": "code",
      "source": [
        "# Criação do objeto do GridSearchCV.\n",
        "grid = GridSearchCV(estimator = clf,          # É a nossa Arvore de Classificação.\n",
        "                    param_grid = parametros,  # É aquele dicionário com valores para serem testados.\n",
        "                    scoring = 'f1',           # Arbitrariamente escolhi o f1, adiante explico com detalhes.\n",
        "                    cv = 20)                  # Idem, arbitratiamente escolhi 20 e adiante será explanado."
      ],
      "metadata": {
        "id": "yK6jK09hN3t1"
      },
      "execution_count": 10,
      "outputs": []
    },
    {
      "cell_type": "markdown",
      "source": [
        "**Treinando o grid com os dados de treino**"
      ],
      "metadata": {
        "id": "6uhfp0zTauU7"
      }
    },
    {
      "cell_type": "code",
      "source": [
        "#Após a criação do objeto do GridSearchCV, pode-se treinar e imprimir os resultados.\n",
        "\n",
        "# Treinando o grid.\n",
        "grid_fitted=grid.fit(X_tr, y_tr)\n",
        "\n",
        "# Imprimindo os resultados.\n",
        "pd.DataFrame(grid_fitted.cv_results_)"
      ],
      "metadata": {
        "colab": {
          "base_uri": "https://localhost:8080/",
          "height": 1000
        },
        "id": "zGxhQaQWN38a",
        "outputId": "decb0096-2322-4a11-c0b7-f6150a9df066"
      },
      "execution_count": 11,
      "outputs": [
        {
          "output_type": "execute_result",
          "data": {
            "text/html": [
              "\n",
              "  <div id=\"df-7641f9ef-4682-42e2-84ef-c40ad1161501\">\n",
              "    <div class=\"colab-df-container\">\n",
              "      <div>\n",
              "<style scoped>\n",
              "    .dataframe tbody tr th:only-of-type {\n",
              "        vertical-align: middle;\n",
              "    }\n",
              "\n",
              "    .dataframe tbody tr th {\n",
              "        vertical-align: top;\n",
              "    }\n",
              "\n",
              "    .dataframe thead th {\n",
              "        text-align: right;\n",
              "    }\n",
              "</style>\n",
              "<table border=\"1\" class=\"dataframe\">\n",
              "  <thead>\n",
              "    <tr style=\"text-align: right;\">\n",
              "      <th></th>\n",
              "      <th>mean_fit_time</th>\n",
              "      <th>std_fit_time</th>\n",
              "      <th>mean_score_time</th>\n",
              "      <th>std_score_time</th>\n",
              "      <th>param_criterion</th>\n",
              "      <th>param_max_depth</th>\n",
              "      <th>param_max_features</th>\n",
              "      <th>params</th>\n",
              "      <th>split0_test_score</th>\n",
              "      <th>split1_test_score</th>\n",
              "      <th>split2_test_score</th>\n",
              "      <th>split3_test_score</th>\n",
              "      <th>split4_test_score</th>\n",
              "      <th>split5_test_score</th>\n",
              "      <th>split6_test_score</th>\n",
              "      <th>split7_test_score</th>\n",
              "      <th>split8_test_score</th>\n",
              "      <th>split9_test_score</th>\n",
              "      <th>split10_test_score</th>\n",
              "      <th>split11_test_score</th>\n",
              "      <th>split12_test_score</th>\n",
              "      <th>split13_test_score</th>\n",
              "      <th>split14_test_score</th>\n",
              "      <th>split15_test_score</th>\n",
              "      <th>split16_test_score</th>\n",
              "      <th>split17_test_score</th>\n",
              "      <th>split18_test_score</th>\n",
              "      <th>split19_test_score</th>\n",
              "      <th>mean_test_score</th>\n",
              "      <th>std_test_score</th>\n",
              "      <th>rank_test_score</th>\n",
              "    </tr>\n",
              "  </thead>\n",
              "  <tbody>\n",
              "    <tr>\n",
              "      <th>0</th>\n",
              "      <td>0.002408</td>\n",
              "      <td>0.000668</td>\n",
              "      <td>0.001056</td>\n",
              "      <td>0.000114</td>\n",
              "      <td>entropy</td>\n",
              "      <td>20</td>\n",
              "      <td>auto</td>\n",
              "      <td>{'criterion': 'entropy', 'max_depth': 20, 'max...</td>\n",
              "      <td>0.888889</td>\n",
              "      <td>0.962963</td>\n",
              "      <td>1.000000</td>\n",
              "      <td>0.916667</td>\n",
              "      <td>0.923077</td>\n",
              "      <td>0.960000</td>\n",
              "      <td>0.928571</td>\n",
              "      <td>1.00</td>\n",
              "      <td>1.00</td>\n",
              "      <td>0.916667</td>\n",
              "      <td>0.956522</td>\n",
              "      <td>0.956522</td>\n",
              "      <td>0.960000</td>\n",
              "      <td>1.000000</td>\n",
              "      <td>0.916667</td>\n",
              "      <td>0.916667</td>\n",
              "      <td>0.96</td>\n",
              "      <td>0.960000</td>\n",
              "      <td>0.880000</td>\n",
              "      <td>0.956522</td>\n",
              "      <td>0.947987</td>\n",
              "      <td>0.035269</td>\n",
              "      <td>1</td>\n",
              "    </tr>\n",
              "    <tr>\n",
              "      <th>1</th>\n",
              "      <td>0.002269</td>\n",
              "      <td>0.000103</td>\n",
              "      <td>0.001027</td>\n",
              "      <td>0.000036</td>\n",
              "      <td>entropy</td>\n",
              "      <td>20</td>\n",
              "      <td>sqrt</td>\n",
              "      <td>{'criterion': 'entropy', 'max_depth': 20, 'max...</td>\n",
              "      <td>0.888889</td>\n",
              "      <td>0.962963</td>\n",
              "      <td>1.000000</td>\n",
              "      <td>0.916667</td>\n",
              "      <td>0.923077</td>\n",
              "      <td>0.960000</td>\n",
              "      <td>0.928571</td>\n",
              "      <td>1.00</td>\n",
              "      <td>1.00</td>\n",
              "      <td>0.916667</td>\n",
              "      <td>0.956522</td>\n",
              "      <td>0.956522</td>\n",
              "      <td>0.960000</td>\n",
              "      <td>1.000000</td>\n",
              "      <td>0.916667</td>\n",
              "      <td>0.916667</td>\n",
              "      <td>0.96</td>\n",
              "      <td>0.960000</td>\n",
              "      <td>0.880000</td>\n",
              "      <td>0.956522</td>\n",
              "      <td>0.947987</td>\n",
              "      <td>0.035269</td>\n",
              "      <td>1</td>\n",
              "    </tr>\n",
              "    <tr>\n",
              "      <th>2</th>\n",
              "      <td>0.002273</td>\n",
              "      <td>0.000168</td>\n",
              "      <td>0.001091</td>\n",
              "      <td>0.000137</td>\n",
              "      <td>entropy</td>\n",
              "      <td>20</td>\n",
              "      <td>log2</td>\n",
              "      <td>{'criterion': 'entropy', 'max_depth': 20, 'max...</td>\n",
              "      <td>0.888889</td>\n",
              "      <td>0.962963</td>\n",
              "      <td>0.960000</td>\n",
              "      <td>0.888889</td>\n",
              "      <td>0.923077</td>\n",
              "      <td>0.923077</td>\n",
              "      <td>0.923077</td>\n",
              "      <td>0.96</td>\n",
              "      <td>1.00</td>\n",
              "      <td>0.818182</td>\n",
              "      <td>0.956522</td>\n",
              "      <td>0.857143</td>\n",
              "      <td>0.923077</td>\n",
              "      <td>0.888889</td>\n",
              "      <td>0.869565</td>\n",
              "      <td>0.916667</td>\n",
              "      <td>1.00</td>\n",
              "      <td>0.956522</td>\n",
              "      <td>0.956522</td>\n",
              "      <td>0.916667</td>\n",
              "      <td>0.924486</td>\n",
              "      <td>0.045426</td>\n",
              "      <td>16</td>\n",
              "    </tr>\n",
              "    <tr>\n",
              "      <th>3</th>\n",
              "      <td>0.002320</td>\n",
              "      <td>0.000158</td>\n",
              "      <td>0.001061</td>\n",
              "      <td>0.000121</td>\n",
              "      <td>entropy</td>\n",
              "      <td>25</td>\n",
              "      <td>auto</td>\n",
              "      <td>{'criterion': 'entropy', 'max_depth': 25, 'max...</td>\n",
              "      <td>0.888889</td>\n",
              "      <td>0.962963</td>\n",
              "      <td>1.000000</td>\n",
              "      <td>0.916667</td>\n",
              "      <td>0.923077</td>\n",
              "      <td>0.960000</td>\n",
              "      <td>0.928571</td>\n",
              "      <td>1.00</td>\n",
              "      <td>1.00</td>\n",
              "      <td>0.916667</td>\n",
              "      <td>0.956522</td>\n",
              "      <td>0.956522</td>\n",
              "      <td>0.960000</td>\n",
              "      <td>1.000000</td>\n",
              "      <td>0.916667</td>\n",
              "      <td>0.916667</td>\n",
              "      <td>0.96</td>\n",
              "      <td>0.960000</td>\n",
              "      <td>0.880000</td>\n",
              "      <td>0.956522</td>\n",
              "      <td>0.947987</td>\n",
              "      <td>0.035269</td>\n",
              "      <td>1</td>\n",
              "    </tr>\n",
              "    <tr>\n",
              "      <th>4</th>\n",
              "      <td>0.002261</td>\n",
              "      <td>0.000144</td>\n",
              "      <td>0.001019</td>\n",
              "      <td>0.000045</td>\n",
              "      <td>entropy</td>\n",
              "      <td>25</td>\n",
              "      <td>sqrt</td>\n",
              "      <td>{'criterion': 'entropy', 'max_depth': 25, 'max...</td>\n",
              "      <td>0.888889</td>\n",
              "      <td>0.962963</td>\n",
              "      <td>1.000000</td>\n",
              "      <td>0.916667</td>\n",
              "      <td>0.923077</td>\n",
              "      <td>0.960000</td>\n",
              "      <td>0.928571</td>\n",
              "      <td>1.00</td>\n",
              "      <td>1.00</td>\n",
              "      <td>0.916667</td>\n",
              "      <td>0.956522</td>\n",
              "      <td>0.956522</td>\n",
              "      <td>0.960000</td>\n",
              "      <td>1.000000</td>\n",
              "      <td>0.916667</td>\n",
              "      <td>0.916667</td>\n",
              "      <td>0.96</td>\n",
              "      <td>0.960000</td>\n",
              "      <td>0.880000</td>\n",
              "      <td>0.956522</td>\n",
              "      <td>0.947987</td>\n",
              "      <td>0.035269</td>\n",
              "      <td>1</td>\n",
              "    </tr>\n",
              "    <tr>\n",
              "      <th>5</th>\n",
              "      <td>0.002392</td>\n",
              "      <td>0.000257</td>\n",
              "      <td>0.001147</td>\n",
              "      <td>0.000193</td>\n",
              "      <td>entropy</td>\n",
              "      <td>25</td>\n",
              "      <td>log2</td>\n",
              "      <td>{'criterion': 'entropy', 'max_depth': 25, 'max...</td>\n",
              "      <td>0.888889</td>\n",
              "      <td>0.962963</td>\n",
              "      <td>0.960000</td>\n",
              "      <td>0.888889</td>\n",
              "      <td>0.923077</td>\n",
              "      <td>0.923077</td>\n",
              "      <td>0.923077</td>\n",
              "      <td>0.96</td>\n",
              "      <td>1.00</td>\n",
              "      <td>0.818182</td>\n",
              "      <td>0.956522</td>\n",
              "      <td>0.857143</td>\n",
              "      <td>0.923077</td>\n",
              "      <td>0.888889</td>\n",
              "      <td>0.869565</td>\n",
              "      <td>0.916667</td>\n",
              "      <td>1.00</td>\n",
              "      <td>0.956522</td>\n",
              "      <td>0.956522</td>\n",
              "      <td>0.916667</td>\n",
              "      <td>0.924486</td>\n",
              "      <td>0.045426</td>\n",
              "      <td>16</td>\n",
              "    </tr>\n",
              "    <tr>\n",
              "      <th>6</th>\n",
              "      <td>0.002269</td>\n",
              "      <td>0.000268</td>\n",
              "      <td>0.001093</td>\n",
              "      <td>0.000409</td>\n",
              "      <td>entropy</td>\n",
              "      <td>30</td>\n",
              "      <td>auto</td>\n",
              "      <td>{'criterion': 'entropy', 'max_depth': 30, 'max...</td>\n",
              "      <td>0.888889</td>\n",
              "      <td>0.962963</td>\n",
              "      <td>1.000000</td>\n",
              "      <td>0.916667</td>\n",
              "      <td>0.923077</td>\n",
              "      <td>0.960000</td>\n",
              "      <td>0.928571</td>\n",
              "      <td>1.00</td>\n",
              "      <td>1.00</td>\n",
              "      <td>0.916667</td>\n",
              "      <td>0.956522</td>\n",
              "      <td>0.956522</td>\n",
              "      <td>0.960000</td>\n",
              "      <td>1.000000</td>\n",
              "      <td>0.916667</td>\n",
              "      <td>0.916667</td>\n",
              "      <td>0.96</td>\n",
              "      <td>0.960000</td>\n",
              "      <td>0.880000</td>\n",
              "      <td>0.956522</td>\n",
              "      <td>0.947987</td>\n",
              "      <td>0.035269</td>\n",
              "      <td>1</td>\n",
              "    </tr>\n",
              "    <tr>\n",
              "      <th>7</th>\n",
              "      <td>0.002745</td>\n",
              "      <td>0.000911</td>\n",
              "      <td>0.001275</td>\n",
              "      <td>0.000414</td>\n",
              "      <td>entropy</td>\n",
              "      <td>30</td>\n",
              "      <td>sqrt</td>\n",
              "      <td>{'criterion': 'entropy', 'max_depth': 30, 'max...</td>\n",
              "      <td>0.888889</td>\n",
              "      <td>0.962963</td>\n",
              "      <td>1.000000</td>\n",
              "      <td>0.916667</td>\n",
              "      <td>0.923077</td>\n",
              "      <td>0.960000</td>\n",
              "      <td>0.928571</td>\n",
              "      <td>1.00</td>\n",
              "      <td>1.00</td>\n",
              "      <td>0.916667</td>\n",
              "      <td>0.956522</td>\n",
              "      <td>0.956522</td>\n",
              "      <td>0.960000</td>\n",
              "      <td>1.000000</td>\n",
              "      <td>0.916667</td>\n",
              "      <td>0.916667</td>\n",
              "      <td>0.96</td>\n",
              "      <td>0.960000</td>\n",
              "      <td>0.880000</td>\n",
              "      <td>0.956522</td>\n",
              "      <td>0.947987</td>\n",
              "      <td>0.035269</td>\n",
              "      <td>1</td>\n",
              "    </tr>\n",
              "    <tr>\n",
              "      <th>8</th>\n",
              "      <td>0.002395</td>\n",
              "      <td>0.000300</td>\n",
              "      <td>0.001108</td>\n",
              "      <td>0.000210</td>\n",
              "      <td>entropy</td>\n",
              "      <td>30</td>\n",
              "      <td>log2</td>\n",
              "      <td>{'criterion': 'entropy', 'max_depth': 30, 'max...</td>\n",
              "      <td>0.888889</td>\n",
              "      <td>0.962963</td>\n",
              "      <td>0.960000</td>\n",
              "      <td>0.888889</td>\n",
              "      <td>0.923077</td>\n",
              "      <td>0.923077</td>\n",
              "      <td>0.923077</td>\n",
              "      <td>0.96</td>\n",
              "      <td>1.00</td>\n",
              "      <td>0.818182</td>\n",
              "      <td>0.956522</td>\n",
              "      <td>0.857143</td>\n",
              "      <td>0.923077</td>\n",
              "      <td>0.888889</td>\n",
              "      <td>0.869565</td>\n",
              "      <td>0.916667</td>\n",
              "      <td>1.00</td>\n",
              "      <td>0.956522</td>\n",
              "      <td>0.956522</td>\n",
              "      <td>0.916667</td>\n",
              "      <td>0.924486</td>\n",
              "      <td>0.045426</td>\n",
              "      <td>16</td>\n",
              "    </tr>\n",
              "    <tr>\n",
              "      <th>9</th>\n",
              "      <td>0.001928</td>\n",
              "      <td>0.000175</td>\n",
              "      <td>0.001072</td>\n",
              "      <td>0.000262</td>\n",
              "      <td>gini</td>\n",
              "      <td>20</td>\n",
              "      <td>auto</td>\n",
              "      <td>{'criterion': 'gini', 'max_depth': 20, 'max_fe...</td>\n",
              "      <td>0.962963</td>\n",
              "      <td>0.960000</td>\n",
              "      <td>1.000000</td>\n",
              "      <td>0.923077</td>\n",
              "      <td>0.962963</td>\n",
              "      <td>0.923077</td>\n",
              "      <td>0.857143</td>\n",
              "      <td>1.00</td>\n",
              "      <td>0.96</td>\n",
              "      <td>0.869565</td>\n",
              "      <td>0.956522</td>\n",
              "      <td>0.909091</td>\n",
              "      <td>1.000000</td>\n",
              "      <td>1.000000</td>\n",
              "      <td>0.916667</td>\n",
              "      <td>0.916667</td>\n",
              "      <td>1.00</td>\n",
              "      <td>0.956522</td>\n",
              "      <td>0.960000</td>\n",
              "      <td>0.909091</td>\n",
              "      <td>0.947167</td>\n",
              "      <td>0.041936</td>\n",
              "      <td>7</td>\n",
              "    </tr>\n",
              "    <tr>\n",
              "      <th>10</th>\n",
              "      <td>0.002206</td>\n",
              "      <td>0.000383</td>\n",
              "      <td>0.001227</td>\n",
              "      <td>0.000261</td>\n",
              "      <td>gini</td>\n",
              "      <td>20</td>\n",
              "      <td>sqrt</td>\n",
              "      <td>{'criterion': 'gini', 'max_depth': 20, 'max_fe...</td>\n",
              "      <td>0.962963</td>\n",
              "      <td>0.960000</td>\n",
              "      <td>1.000000</td>\n",
              "      <td>0.923077</td>\n",
              "      <td>0.962963</td>\n",
              "      <td>0.923077</td>\n",
              "      <td>0.857143</td>\n",
              "      <td>1.00</td>\n",
              "      <td>0.96</td>\n",
              "      <td>0.869565</td>\n",
              "      <td>0.956522</td>\n",
              "      <td>0.909091</td>\n",
              "      <td>1.000000</td>\n",
              "      <td>1.000000</td>\n",
              "      <td>0.916667</td>\n",
              "      <td>0.916667</td>\n",
              "      <td>1.00</td>\n",
              "      <td>0.956522</td>\n",
              "      <td>0.960000</td>\n",
              "      <td>0.909091</td>\n",
              "      <td>0.947167</td>\n",
              "      <td>0.041936</td>\n",
              "      <td>7</td>\n",
              "    </tr>\n",
              "    <tr>\n",
              "      <th>11</th>\n",
              "      <td>0.001797</td>\n",
              "      <td>0.000132</td>\n",
              "      <td>0.000998</td>\n",
              "      <td>0.000030</td>\n",
              "      <td>gini</td>\n",
              "      <td>20</td>\n",
              "      <td>log2</td>\n",
              "      <td>{'criterion': 'gini', 'max_depth': 20, 'max_fe...</td>\n",
              "      <td>0.888889</td>\n",
              "      <td>0.962963</td>\n",
              "      <td>0.923077</td>\n",
              "      <td>0.928571</td>\n",
              "      <td>0.880000</td>\n",
              "      <td>0.960000</td>\n",
              "      <td>0.962963</td>\n",
              "      <td>0.96</td>\n",
              "      <td>0.96</td>\n",
              "      <td>0.869565</td>\n",
              "      <td>0.916667</td>\n",
              "      <td>0.916667</td>\n",
              "      <td>0.960000</td>\n",
              "      <td>0.916667</td>\n",
              "      <td>0.916667</td>\n",
              "      <td>0.916667</td>\n",
              "      <td>1.00</td>\n",
              "      <td>1.000000</td>\n",
              "      <td>0.956522</td>\n",
              "      <td>0.869565</td>\n",
              "      <td>0.933272</td>\n",
              "      <td>0.037747</td>\n",
              "      <td>13</td>\n",
              "    </tr>\n",
              "    <tr>\n",
              "      <th>12</th>\n",
              "      <td>0.001918</td>\n",
              "      <td>0.000088</td>\n",
              "      <td>0.001028</td>\n",
              "      <td>0.000065</td>\n",
              "      <td>gini</td>\n",
              "      <td>25</td>\n",
              "      <td>auto</td>\n",
              "      <td>{'criterion': 'gini', 'max_depth': 25, 'max_fe...</td>\n",
              "      <td>0.962963</td>\n",
              "      <td>0.960000</td>\n",
              "      <td>1.000000</td>\n",
              "      <td>0.923077</td>\n",
              "      <td>0.962963</td>\n",
              "      <td>0.923077</td>\n",
              "      <td>0.857143</td>\n",
              "      <td>1.00</td>\n",
              "      <td>0.96</td>\n",
              "      <td>0.869565</td>\n",
              "      <td>0.956522</td>\n",
              "      <td>0.909091</td>\n",
              "      <td>1.000000</td>\n",
              "      <td>1.000000</td>\n",
              "      <td>0.916667</td>\n",
              "      <td>0.916667</td>\n",
              "      <td>1.00</td>\n",
              "      <td>0.956522</td>\n",
              "      <td>0.960000</td>\n",
              "      <td>0.909091</td>\n",
              "      <td>0.947167</td>\n",
              "      <td>0.041936</td>\n",
              "      <td>7</td>\n",
              "    </tr>\n",
              "    <tr>\n",
              "      <th>13</th>\n",
              "      <td>0.001947</td>\n",
              "      <td>0.000147</td>\n",
              "      <td>0.001065</td>\n",
              "      <td>0.000145</td>\n",
              "      <td>gini</td>\n",
              "      <td>25</td>\n",
              "      <td>sqrt</td>\n",
              "      <td>{'criterion': 'gini', 'max_depth': 25, 'max_fe...</td>\n",
              "      <td>0.962963</td>\n",
              "      <td>0.960000</td>\n",
              "      <td>1.000000</td>\n",
              "      <td>0.923077</td>\n",
              "      <td>0.962963</td>\n",
              "      <td>0.923077</td>\n",
              "      <td>0.857143</td>\n",
              "      <td>1.00</td>\n",
              "      <td>0.96</td>\n",
              "      <td>0.869565</td>\n",
              "      <td>0.956522</td>\n",
              "      <td>0.909091</td>\n",
              "      <td>1.000000</td>\n",
              "      <td>1.000000</td>\n",
              "      <td>0.916667</td>\n",
              "      <td>0.916667</td>\n",
              "      <td>1.00</td>\n",
              "      <td>0.956522</td>\n",
              "      <td>0.960000</td>\n",
              "      <td>0.909091</td>\n",
              "      <td>0.947167</td>\n",
              "      <td>0.041936</td>\n",
              "      <td>7</td>\n",
              "    </tr>\n",
              "    <tr>\n",
              "      <th>14</th>\n",
              "      <td>0.001777</td>\n",
              "      <td>0.000141</td>\n",
              "      <td>0.000977</td>\n",
              "      <td>0.000020</td>\n",
              "      <td>gini</td>\n",
              "      <td>25</td>\n",
              "      <td>log2</td>\n",
              "      <td>{'criterion': 'gini', 'max_depth': 25, 'max_fe...</td>\n",
              "      <td>0.888889</td>\n",
              "      <td>0.962963</td>\n",
              "      <td>0.923077</td>\n",
              "      <td>0.928571</td>\n",
              "      <td>0.880000</td>\n",
              "      <td>0.960000</td>\n",
              "      <td>0.962963</td>\n",
              "      <td>0.96</td>\n",
              "      <td>0.96</td>\n",
              "      <td>0.869565</td>\n",
              "      <td>0.916667</td>\n",
              "      <td>0.916667</td>\n",
              "      <td>0.960000</td>\n",
              "      <td>0.916667</td>\n",
              "      <td>0.916667</td>\n",
              "      <td>0.916667</td>\n",
              "      <td>1.00</td>\n",
              "      <td>1.000000</td>\n",
              "      <td>0.956522</td>\n",
              "      <td>0.869565</td>\n",
              "      <td>0.933272</td>\n",
              "      <td>0.037747</td>\n",
              "      <td>13</td>\n",
              "    </tr>\n",
              "    <tr>\n",
              "      <th>15</th>\n",
              "      <td>0.001823</td>\n",
              "      <td>0.000092</td>\n",
              "      <td>0.000977</td>\n",
              "      <td>0.000088</td>\n",
              "      <td>gini</td>\n",
              "      <td>30</td>\n",
              "      <td>auto</td>\n",
              "      <td>{'criterion': 'gini', 'max_depth': 30, 'max_fe...</td>\n",
              "      <td>0.962963</td>\n",
              "      <td>0.960000</td>\n",
              "      <td>1.000000</td>\n",
              "      <td>0.923077</td>\n",
              "      <td>0.962963</td>\n",
              "      <td>0.923077</td>\n",
              "      <td>0.857143</td>\n",
              "      <td>1.00</td>\n",
              "      <td>0.96</td>\n",
              "      <td>0.869565</td>\n",
              "      <td>0.956522</td>\n",
              "      <td>0.909091</td>\n",
              "      <td>1.000000</td>\n",
              "      <td>1.000000</td>\n",
              "      <td>0.916667</td>\n",
              "      <td>0.916667</td>\n",
              "      <td>1.00</td>\n",
              "      <td>0.956522</td>\n",
              "      <td>0.960000</td>\n",
              "      <td>0.909091</td>\n",
              "      <td>0.947167</td>\n",
              "      <td>0.041936</td>\n",
              "      <td>7</td>\n",
              "    </tr>\n",
              "    <tr>\n",
              "      <th>16</th>\n",
              "      <td>0.001930</td>\n",
              "      <td>0.000196</td>\n",
              "      <td>0.001073</td>\n",
              "      <td>0.000228</td>\n",
              "      <td>gini</td>\n",
              "      <td>30</td>\n",
              "      <td>sqrt</td>\n",
              "      <td>{'criterion': 'gini', 'max_depth': 30, 'max_fe...</td>\n",
              "      <td>0.962963</td>\n",
              "      <td>0.960000</td>\n",
              "      <td>1.000000</td>\n",
              "      <td>0.923077</td>\n",
              "      <td>0.962963</td>\n",
              "      <td>0.923077</td>\n",
              "      <td>0.857143</td>\n",
              "      <td>1.00</td>\n",
              "      <td>0.96</td>\n",
              "      <td>0.869565</td>\n",
              "      <td>0.956522</td>\n",
              "      <td>0.909091</td>\n",
              "      <td>1.000000</td>\n",
              "      <td>1.000000</td>\n",
              "      <td>0.916667</td>\n",
              "      <td>0.916667</td>\n",
              "      <td>1.00</td>\n",
              "      <td>0.956522</td>\n",
              "      <td>0.960000</td>\n",
              "      <td>0.909091</td>\n",
              "      <td>0.947167</td>\n",
              "      <td>0.041936</td>\n",
              "      <td>7</td>\n",
              "    </tr>\n",
              "    <tr>\n",
              "      <th>17</th>\n",
              "      <td>0.001758</td>\n",
              "      <td>0.000119</td>\n",
              "      <td>0.000995</td>\n",
              "      <td>0.000079</td>\n",
              "      <td>gini</td>\n",
              "      <td>30</td>\n",
              "      <td>log2</td>\n",
              "      <td>{'criterion': 'gini', 'max_depth': 30, 'max_fe...</td>\n",
              "      <td>0.888889</td>\n",
              "      <td>0.962963</td>\n",
              "      <td>0.923077</td>\n",
              "      <td>0.928571</td>\n",
              "      <td>0.880000</td>\n",
              "      <td>0.960000</td>\n",
              "      <td>0.962963</td>\n",
              "      <td>0.96</td>\n",
              "      <td>0.96</td>\n",
              "      <td>0.869565</td>\n",
              "      <td>0.916667</td>\n",
              "      <td>0.916667</td>\n",
              "      <td>0.960000</td>\n",
              "      <td>0.916667</td>\n",
              "      <td>0.916667</td>\n",
              "      <td>0.916667</td>\n",
              "      <td>1.00</td>\n",
              "      <td>1.000000</td>\n",
              "      <td>0.956522</td>\n",
              "      <td>0.869565</td>\n",
              "      <td>0.933272</td>\n",
              "      <td>0.037747</td>\n",
              "      <td>13</td>\n",
              "    </tr>\n",
              "  </tbody>\n",
              "</table>\n",
              "</div>\n",
              "      <button class=\"colab-df-convert\" onclick=\"convertToInteractive('df-7641f9ef-4682-42e2-84ef-c40ad1161501')\"\n",
              "              title=\"Convert this dataframe to an interactive table.\"\n",
              "              style=\"display:none;\">\n",
              "        \n",
              "  <svg xmlns=\"http://www.w3.org/2000/svg\" height=\"24px\"viewBox=\"0 0 24 24\"\n",
              "       width=\"24px\">\n",
              "    <path d=\"M0 0h24v24H0V0z\" fill=\"none\"/>\n",
              "    <path d=\"M18.56 5.44l.94 2.06.94-2.06 2.06-.94-2.06-.94-.94-2.06-.94 2.06-2.06.94zm-11 1L8.5 8.5l.94-2.06 2.06-.94-2.06-.94L8.5 2.5l-.94 2.06-2.06.94zm10 10l.94 2.06.94-2.06 2.06-.94-2.06-.94-.94-2.06-.94 2.06-2.06.94z\"/><path d=\"M17.41 7.96l-1.37-1.37c-.4-.4-.92-.59-1.43-.59-.52 0-1.04.2-1.43.59L10.3 9.45l-7.72 7.72c-.78.78-.78 2.05 0 2.83L4 21.41c.39.39.9.59 1.41.59.51 0 1.02-.2 1.41-.59l7.78-7.78 2.81-2.81c.8-.78.8-2.07 0-2.86zM5.41 20L4 18.59l7.72-7.72 1.47 1.35L5.41 20z\"/>\n",
              "  </svg>\n",
              "      </button>\n",
              "      \n",
              "  <style>\n",
              "    .colab-df-container {\n",
              "      display:flex;\n",
              "      flex-wrap:wrap;\n",
              "      gap: 12px;\n",
              "    }\n",
              "\n",
              "    .colab-df-convert {\n",
              "      background-color: #E8F0FE;\n",
              "      border: none;\n",
              "      border-radius: 50%;\n",
              "      cursor: pointer;\n",
              "      display: none;\n",
              "      fill: #1967D2;\n",
              "      height: 32px;\n",
              "      padding: 0 0 0 0;\n",
              "      width: 32px;\n",
              "    }\n",
              "\n",
              "    .colab-df-convert:hover {\n",
              "      background-color: #E2EBFA;\n",
              "      box-shadow: 0px 1px 2px rgba(60, 64, 67, 0.3), 0px 1px 3px 1px rgba(60, 64, 67, 0.15);\n",
              "      fill: #174EA6;\n",
              "    }\n",
              "\n",
              "    [theme=dark] .colab-df-convert {\n",
              "      background-color: #3B4455;\n",
              "      fill: #D2E3FC;\n",
              "    }\n",
              "\n",
              "    [theme=dark] .colab-df-convert:hover {\n",
              "      background-color: #434B5C;\n",
              "      box-shadow: 0px 1px 3px 1px rgba(0, 0, 0, 0.15);\n",
              "      filter: drop-shadow(0px 1px 2px rgba(0, 0, 0, 0.3));\n",
              "      fill: #FFFFFF;\n",
              "    }\n",
              "  </style>\n",
              "\n",
              "      <script>\n",
              "        const buttonEl =\n",
              "          document.querySelector('#df-7641f9ef-4682-42e2-84ef-c40ad1161501 button.colab-df-convert');\n",
              "        buttonEl.style.display =\n",
              "          google.colab.kernel.accessAllowed ? 'block' : 'none';\n",
              "\n",
              "        async function convertToInteractive(key) {\n",
              "          const element = document.querySelector('#df-7641f9ef-4682-42e2-84ef-c40ad1161501');\n",
              "          const dataTable =\n",
              "            await google.colab.kernel.invokeFunction('convertToInteractive',\n",
              "                                                     [key], {});\n",
              "          if (!dataTable) return;\n",
              "\n",
              "          const docLinkHtml = 'Like what you see? Visit the ' +\n",
              "            '<a target=\"_blank\" href=https://colab.research.google.com/notebooks/data_table.ipynb>data table notebook</a>'\n",
              "            + ' to learn more about interactive tables.';\n",
              "          element.innerHTML = '';\n",
              "          dataTable['output_type'] = 'display_data';\n",
              "          await google.colab.output.renderOutput(dataTable, element);\n",
              "          const docLink = document.createElement('div');\n",
              "          docLink.innerHTML = docLinkHtml;\n",
              "          element.appendChild(docLink);\n",
              "        }\n",
              "      </script>\n",
              "    </div>\n",
              "  </div>\n",
              "  "
            ],
            "text/plain": [
              "    mean_fit_time  std_fit_time  ...  std_test_score  rank_test_score\n",
              "0        0.002408      0.000668  ...        0.035269                1\n",
              "1        0.002269      0.000103  ...        0.035269                1\n",
              "2        0.002273      0.000168  ...        0.045426               16\n",
              "3        0.002320      0.000158  ...        0.035269                1\n",
              "4        0.002261      0.000144  ...        0.035269                1\n",
              "5        0.002392      0.000257  ...        0.045426               16\n",
              "6        0.002269      0.000268  ...        0.035269                1\n",
              "7        0.002745      0.000911  ...        0.035269                1\n",
              "8        0.002395      0.000300  ...        0.045426               16\n",
              "9        0.001928      0.000175  ...        0.041936                7\n",
              "10       0.002206      0.000383  ...        0.041936                7\n",
              "11       0.001797      0.000132  ...        0.037747               13\n",
              "12       0.001918      0.000088  ...        0.041936                7\n",
              "13       0.001947      0.000147  ...        0.041936                7\n",
              "14       0.001777      0.000141  ...        0.037747               13\n",
              "15       0.001823      0.000092  ...        0.041936                7\n",
              "16       0.001930      0.000196  ...        0.041936                7\n",
              "17       0.001758      0.000119  ...        0.037747               13\n",
              "\n",
              "[18 rows x 31 columns]"
            ]
          },
          "metadata": {},
          "execution_count": 11
        }
      ]
    },
    {
      "cell_type": "markdown",
      "source": [
        "Há muitas colunas nesse resultado, então vamos fazer um subset escolhendo as colunas de interesse."
      ],
      "metadata": {
        "id": "28lO_hXEbG2D"
      }
    },
    {
      "cell_type": "code",
      "source": [
        "# Imprime colunas de interesse.\n",
        "pd.DataFrame(grid_fitted.cv_results_)[['params','rank_test_score','mean_test_score']]"
      ],
      "metadata": {
        "colab": {
          "base_uri": "https://localhost:8080/",
          "height": 614
        },
        "id": "2rnZ3dcPN4BZ",
        "outputId": "15c2f03a-6f24-4f01-f07e-0bc6d96c122f"
      },
      "execution_count": 12,
      "outputs": [
        {
          "output_type": "execute_result",
          "data": {
            "text/html": [
              "\n",
              "  <div id=\"df-b38f7c18-6b9b-43b7-bbf6-ed49f5e389ee\">\n",
              "    <div class=\"colab-df-container\">\n",
              "      <div>\n",
              "<style scoped>\n",
              "    .dataframe tbody tr th:only-of-type {\n",
              "        vertical-align: middle;\n",
              "    }\n",
              "\n",
              "    .dataframe tbody tr th {\n",
              "        vertical-align: top;\n",
              "    }\n",
              "\n",
              "    .dataframe thead th {\n",
              "        text-align: right;\n",
              "    }\n",
              "</style>\n",
              "<table border=\"1\" class=\"dataframe\">\n",
              "  <thead>\n",
              "    <tr style=\"text-align: right;\">\n",
              "      <th></th>\n",
              "      <th>params</th>\n",
              "      <th>rank_test_score</th>\n",
              "      <th>mean_test_score</th>\n",
              "    </tr>\n",
              "  </thead>\n",
              "  <tbody>\n",
              "    <tr>\n",
              "      <th>0</th>\n",
              "      <td>{'criterion': 'entropy', 'max_depth': 20, 'max...</td>\n",
              "      <td>1</td>\n",
              "      <td>0.947987</td>\n",
              "    </tr>\n",
              "    <tr>\n",
              "      <th>1</th>\n",
              "      <td>{'criterion': 'entropy', 'max_depth': 20, 'max...</td>\n",
              "      <td>1</td>\n",
              "      <td>0.947987</td>\n",
              "    </tr>\n",
              "    <tr>\n",
              "      <th>2</th>\n",
              "      <td>{'criterion': 'entropy', 'max_depth': 20, 'max...</td>\n",
              "      <td>16</td>\n",
              "      <td>0.924486</td>\n",
              "    </tr>\n",
              "    <tr>\n",
              "      <th>3</th>\n",
              "      <td>{'criterion': 'entropy', 'max_depth': 25, 'max...</td>\n",
              "      <td>1</td>\n",
              "      <td>0.947987</td>\n",
              "    </tr>\n",
              "    <tr>\n",
              "      <th>4</th>\n",
              "      <td>{'criterion': 'entropy', 'max_depth': 25, 'max...</td>\n",
              "      <td>1</td>\n",
              "      <td>0.947987</td>\n",
              "    </tr>\n",
              "    <tr>\n",
              "      <th>5</th>\n",
              "      <td>{'criterion': 'entropy', 'max_depth': 25, 'max...</td>\n",
              "      <td>16</td>\n",
              "      <td>0.924486</td>\n",
              "    </tr>\n",
              "    <tr>\n",
              "      <th>6</th>\n",
              "      <td>{'criterion': 'entropy', 'max_depth': 30, 'max...</td>\n",
              "      <td>1</td>\n",
              "      <td>0.947987</td>\n",
              "    </tr>\n",
              "    <tr>\n",
              "      <th>7</th>\n",
              "      <td>{'criterion': 'entropy', 'max_depth': 30, 'max...</td>\n",
              "      <td>1</td>\n",
              "      <td>0.947987</td>\n",
              "    </tr>\n",
              "    <tr>\n",
              "      <th>8</th>\n",
              "      <td>{'criterion': 'entropy', 'max_depth': 30, 'max...</td>\n",
              "      <td>16</td>\n",
              "      <td>0.924486</td>\n",
              "    </tr>\n",
              "    <tr>\n",
              "      <th>9</th>\n",
              "      <td>{'criterion': 'gini', 'max_depth': 20, 'max_fe...</td>\n",
              "      <td>7</td>\n",
              "      <td>0.947167</td>\n",
              "    </tr>\n",
              "    <tr>\n",
              "      <th>10</th>\n",
              "      <td>{'criterion': 'gini', 'max_depth': 20, 'max_fe...</td>\n",
              "      <td>7</td>\n",
              "      <td>0.947167</td>\n",
              "    </tr>\n",
              "    <tr>\n",
              "      <th>11</th>\n",
              "      <td>{'criterion': 'gini', 'max_depth': 20, 'max_fe...</td>\n",
              "      <td>13</td>\n",
              "      <td>0.933272</td>\n",
              "    </tr>\n",
              "    <tr>\n",
              "      <th>12</th>\n",
              "      <td>{'criterion': 'gini', 'max_depth': 25, 'max_fe...</td>\n",
              "      <td>7</td>\n",
              "      <td>0.947167</td>\n",
              "    </tr>\n",
              "    <tr>\n",
              "      <th>13</th>\n",
              "      <td>{'criterion': 'gini', 'max_depth': 25, 'max_fe...</td>\n",
              "      <td>7</td>\n",
              "      <td>0.947167</td>\n",
              "    </tr>\n",
              "    <tr>\n",
              "      <th>14</th>\n",
              "      <td>{'criterion': 'gini', 'max_depth': 25, 'max_fe...</td>\n",
              "      <td>13</td>\n",
              "      <td>0.933272</td>\n",
              "    </tr>\n",
              "    <tr>\n",
              "      <th>15</th>\n",
              "      <td>{'criterion': 'gini', 'max_depth': 30, 'max_fe...</td>\n",
              "      <td>7</td>\n",
              "      <td>0.947167</td>\n",
              "    </tr>\n",
              "    <tr>\n",
              "      <th>16</th>\n",
              "      <td>{'criterion': 'gini', 'max_depth': 30, 'max_fe...</td>\n",
              "      <td>7</td>\n",
              "      <td>0.947167</td>\n",
              "    </tr>\n",
              "    <tr>\n",
              "      <th>17</th>\n",
              "      <td>{'criterion': 'gini', 'max_depth': 30, 'max_fe...</td>\n",
              "      <td>13</td>\n",
              "      <td>0.933272</td>\n",
              "    </tr>\n",
              "  </tbody>\n",
              "</table>\n",
              "</div>\n",
              "      <button class=\"colab-df-convert\" onclick=\"convertToInteractive('df-b38f7c18-6b9b-43b7-bbf6-ed49f5e389ee')\"\n",
              "              title=\"Convert this dataframe to an interactive table.\"\n",
              "              style=\"display:none;\">\n",
              "        \n",
              "  <svg xmlns=\"http://www.w3.org/2000/svg\" height=\"24px\"viewBox=\"0 0 24 24\"\n",
              "       width=\"24px\">\n",
              "    <path d=\"M0 0h24v24H0V0z\" fill=\"none\"/>\n",
              "    <path d=\"M18.56 5.44l.94 2.06.94-2.06 2.06-.94-2.06-.94-.94-2.06-.94 2.06-2.06.94zm-11 1L8.5 8.5l.94-2.06 2.06-.94-2.06-.94L8.5 2.5l-.94 2.06-2.06.94zm10 10l.94 2.06.94-2.06 2.06-.94-2.06-.94-.94-2.06-.94 2.06-2.06.94z\"/><path d=\"M17.41 7.96l-1.37-1.37c-.4-.4-.92-.59-1.43-.59-.52 0-1.04.2-1.43.59L10.3 9.45l-7.72 7.72c-.78.78-.78 2.05 0 2.83L4 21.41c.39.39.9.59 1.41.59.51 0 1.02-.2 1.41-.59l7.78-7.78 2.81-2.81c.8-.78.8-2.07 0-2.86zM5.41 20L4 18.59l7.72-7.72 1.47 1.35L5.41 20z\"/>\n",
              "  </svg>\n",
              "      </button>\n",
              "      \n",
              "  <style>\n",
              "    .colab-df-container {\n",
              "      display:flex;\n",
              "      flex-wrap:wrap;\n",
              "      gap: 12px;\n",
              "    }\n",
              "\n",
              "    .colab-df-convert {\n",
              "      background-color: #E8F0FE;\n",
              "      border: none;\n",
              "      border-radius: 50%;\n",
              "      cursor: pointer;\n",
              "      display: none;\n",
              "      fill: #1967D2;\n",
              "      height: 32px;\n",
              "      padding: 0 0 0 0;\n",
              "      width: 32px;\n",
              "    }\n",
              "\n",
              "    .colab-df-convert:hover {\n",
              "      background-color: #E2EBFA;\n",
              "      box-shadow: 0px 1px 2px rgba(60, 64, 67, 0.3), 0px 1px 3px 1px rgba(60, 64, 67, 0.15);\n",
              "      fill: #174EA6;\n",
              "    }\n",
              "\n",
              "    [theme=dark] .colab-df-convert {\n",
              "      background-color: #3B4455;\n",
              "      fill: #D2E3FC;\n",
              "    }\n",
              "\n",
              "    [theme=dark] .colab-df-convert:hover {\n",
              "      background-color: #434B5C;\n",
              "      box-shadow: 0px 1px 3px 1px rgba(0, 0, 0, 0.15);\n",
              "      filter: drop-shadow(0px 1px 2px rgba(0, 0, 0, 0.3));\n",
              "      fill: #FFFFFF;\n",
              "    }\n",
              "  </style>\n",
              "\n",
              "      <script>\n",
              "        const buttonEl =\n",
              "          document.querySelector('#df-b38f7c18-6b9b-43b7-bbf6-ed49f5e389ee button.colab-df-convert');\n",
              "        buttonEl.style.display =\n",
              "          google.colab.kernel.accessAllowed ? 'block' : 'none';\n",
              "\n",
              "        async function convertToInteractive(key) {\n",
              "          const element = document.querySelector('#df-b38f7c18-6b9b-43b7-bbf6-ed49f5e389ee');\n",
              "          const dataTable =\n",
              "            await google.colab.kernel.invokeFunction('convertToInteractive',\n",
              "                                                     [key], {});\n",
              "          if (!dataTable) return;\n",
              "\n",
              "          const docLinkHtml = 'Like what you see? Visit the ' +\n",
              "            '<a target=\"_blank\" href=https://colab.research.google.com/notebooks/data_table.ipynb>data table notebook</a>'\n",
              "            + ' to learn more about interactive tables.';\n",
              "          element.innerHTML = '';\n",
              "          dataTable['output_type'] = 'display_data';\n",
              "          await google.colab.output.renderOutput(dataTable, element);\n",
              "          const docLink = document.createElement('div');\n",
              "          docLink.innerHTML = docLinkHtml;\n",
              "          element.appendChild(docLink);\n",
              "        }\n",
              "      </script>\n",
              "    </div>\n",
              "  </div>\n",
              "  "
            ],
            "text/plain": [
              "                                               params  ...  mean_test_score\n",
              "0   {'criterion': 'entropy', 'max_depth': 20, 'max...  ...         0.947987\n",
              "1   {'criterion': 'entropy', 'max_depth': 20, 'max...  ...         0.947987\n",
              "2   {'criterion': 'entropy', 'max_depth': 20, 'max...  ...         0.924486\n",
              "3   {'criterion': 'entropy', 'max_depth': 25, 'max...  ...         0.947987\n",
              "4   {'criterion': 'entropy', 'max_depth': 25, 'max...  ...         0.947987\n",
              "5   {'criterion': 'entropy', 'max_depth': 25, 'max...  ...         0.924486\n",
              "6   {'criterion': 'entropy', 'max_depth': 30, 'max...  ...         0.947987\n",
              "7   {'criterion': 'entropy', 'max_depth': 30, 'max...  ...         0.947987\n",
              "8   {'criterion': 'entropy', 'max_depth': 30, 'max...  ...         0.924486\n",
              "9   {'criterion': 'gini', 'max_depth': 20, 'max_fe...  ...         0.947167\n",
              "10  {'criterion': 'gini', 'max_depth': 20, 'max_fe...  ...         0.947167\n",
              "11  {'criterion': 'gini', 'max_depth': 20, 'max_fe...  ...         0.933272\n",
              "12  {'criterion': 'gini', 'max_depth': 25, 'max_fe...  ...         0.947167\n",
              "13  {'criterion': 'gini', 'max_depth': 25, 'max_fe...  ...         0.947167\n",
              "14  {'criterion': 'gini', 'max_depth': 25, 'max_fe...  ...         0.933272\n",
              "15  {'criterion': 'gini', 'max_depth': 30, 'max_fe...  ...         0.947167\n",
              "16  {'criterion': 'gini', 'max_depth': 30, 'max_fe...  ...         0.947167\n",
              "17  {'criterion': 'gini', 'max_depth': 30, 'max_fe...  ...         0.933272\n",
              "\n",
              "[18 rows x 3 columns]"
            ]
          },
          "metadata": {},
          "execution_count": 12
        }
      ]
    },
    {
      "cell_type": "markdown",
      "source": [
        "**Escolha dos melhores valores de parametros escolhidos pelo grid_search**"
      ],
      "metadata": {
        "id": "xHtYGWI6a6Kc"
      }
    },
    {
      "cell_type": "code",
      "source": [
        "# Imprime os parâmetros que produziram o \".best_score_\".\n",
        "grid_fitted.best_params_"
      ],
      "metadata": {
        "colab": {
          "base_uri": "https://localhost:8080/"
        },
        "id": "ZhXDlqAzN4Fj",
        "outputId": "e96de67f-008f-43ed-927c-a22b1da78ae4"
      },
      "execution_count": 13,
      "outputs": [
        {
          "output_type": "execute_result",
          "data": {
            "text/plain": [
              "{'criterion': 'entropy', 'max_depth': 20, 'max_features': 'auto'}"
            ]
          },
          "metadata": {},
          "execution_count": 13
        }
      ]
    },
    {
      "cell_type": "markdown",
      "source": [
        "Bem como é possível imprimir o valor de f1 usando o atributo .best_score_."
      ],
      "metadata": {
        "id": "OaaM7-bCbWmR"
      }
    },
    {
      "cell_type": "code",
      "source": [
        "# Imprimindo o score.\n",
        "grid_fitted.best_score_"
      ],
      "metadata": {
        "colab": {
          "base_uri": "https://localhost:8080/"
        },
        "id": "V3_WUE8MN4Oa",
        "outputId": "d5358564-d4c6-4032-a9b3-8de88420efc9"
      },
      "execution_count": 14,
      "outputs": [
        {
          "output_type": "execute_result",
          "data": {
            "text/plain": [
              "0.9479866043779086"
            ]
          },
          "metadata": {},
          "execution_count": 14
        }
      ]
    },
    {
      "cell_type": "code",
      "source": [
        "y_pred=grid_fitted.predict(X_ts)"
      ],
      "metadata": {
        "id": "CxAGXz0BcQs8"
      },
      "execution_count": 15,
      "outputs": []
    },
    {
      "cell_type": "markdown",
      "source": [
        "**Chamando o modelo novamente agora com os melhores parametros feitos no grid**"
      ],
      "metadata": {
        "id": "6CEOTzVfU6LC"
      }
    },
    {
      "cell_type": "code",
      "source": [
        "X = cancer.data\n",
        "y = cancer.target\n",
        "\n",
        "\n",
        "# Define o modelo final\n",
        "model = DecisionTreeClassifier(random_state = 42, \n",
        "                                   criterion = grid_fitted.best_params_['criterion'], \n",
        "                                   max_depth = grid_fitted.best_params_['max_depth'], \n",
        "                                   max_features = grid_fitted.best_params_['max_features'])\n",
        "\n",
        "# Realiza o treinamento do modelo nos dados de treino\n",
        "model.fit (X, y)\n"
      ],
      "metadata": {
        "colab": {
          "base_uri": "https://localhost:8080/"
        },
        "id": "fVgN8vAOU992",
        "outputId": "966a0b62-e6fa-4296-bd28-d5751c4d0d3f"
      },
      "execution_count": 22,
      "outputs": [
        {
          "output_type": "execute_result",
          "data": {
            "text/plain": [
              "DecisionTreeClassifier(criterion='entropy', max_depth=20, max_features='auto',\n",
              "                       random_state=42)"
            ]
          },
          "metadata": {},
          "execution_count": 22
        }
      ]
    },
    {
      "cell_type": "markdown",
      "source": [
        "**Métricas do modelo**"
      ],
      "metadata": {
        "id": "o5TtlAAdXIdv"
      }
    },
    {
      "cell_type": "code",
      "source": [
        "cv_results = cross_validate(clf, features, labels, cv=5, scoring=['balanced_accuracy', 'accuracy', 'precision', 'recall', 'roc_auc']) \n",
        "\n",
        "print (' balanced_accuracy = {}\\n accuracy = {}\\n precision = {}\\n recall = {}\\n roc_auc = {}'.format(cv_results['test_balanced_accuracy'].mean(),\n",
        "                                                                                                cv_results['test_accuracy'].mean(),\n",
        "                                                                                                cv_results['test_precision'].mean(),\n",
        "                                                                                                cv_results['test_recall'].mean(),\n",
        "                                                                                                cv_results['test_roc_auc'].mean()))"
      ],
      "metadata": {
        "colab": {
          "base_uri": "https://localhost:8080/"
        },
        "id": "jMJghoQ_QVb0",
        "outputId": "3e6b14ad-0158-4297-f0fe-108fb345c872"
      },
      "execution_count": 18,
      "outputs": [
        {
          "output_type": "stream",
          "name": "stdout",
          "text": [
            " balanced_accuracy = 0.915924747451115\n",
            " accuracy = 0.9173730787144851\n",
            " precision = 0.9457070707070707\n",
            " recall = 0.9214397496087636\n",
            " roc_auc = 0.915924747451115\n"
          ]
        }
      ]
    },
    {
      "cell_type": "markdown",
      "source": [
        "**Exibição  da curva roc e da cruva precision-recall:**"
      ],
      "metadata": {
        "id": "8CnGdnKgXY0G"
      }
    },
    {
      "cell_type": "markdown",
      "source": [
        "Função que plota a curva ROC"
      ],
      "metadata": {
        "id": "34dsUL0abWRo"
      }
    },
    {
      "cell_type": "code",
      "source": [
        "def plot_curva_roc(model, model_description, X, Y):\n",
        "\n",
        "    # Simula os resultados de um modelo que prevê apenas a classe majoritária (classe 0, neste projeto)\n",
        "    ns_probs = [0 for _ in range(len(Y))]\n",
        "\n",
        "    # Busca as probabilidaes\n",
        "    lr_probs = model.predict_proba(X)\n",
        "\n",
        "    # Mantém apenas as probabilidaes da classe positiva\n",
        "    lr_probs = lr_probs[:, 1]\n",
        "\n",
        "    # Calcula as métricas\n",
        "    ns_auc = roc_auc_score(Y, ns_probs)\n",
        "    lr_auc = roc_auc_score(Y, lr_probs)\n",
        "\n",
        "    # Exibe as métricas\n",
        "    print('No Skill: ROC AUC=%.3f' % (ns_auc))\n",
        "    print('%s: ROC AUC=%.3f' % (model_description, lr_auc))\n",
        "\n",
        "    # Calcula a curva roc\n",
        "    ns_fpr, ns_tpr, _ = roc_curve(Y, ns_probs)\n",
        "    lr_fpr, lr_tpr, _ = roc_curve(Y, lr_probs)\n",
        "\n",
        "    # Exibe o gráfico\n",
        "    plt.plot(ns_fpr, ns_tpr, linestyle='--', label='No Skill')\n",
        "    plt.plot(lr_fpr, lr_tpr, marker='.', label='Decision Tree Classifier')\n",
        "    plt.xlabel('False Positive Rate')\n",
        "    plt.ylabel('True Positive Rate')\n",
        "    plt.legend()\n",
        "    plt.show()"
      ],
      "metadata": {
        "id": "B93FyD2sYnFN"
      },
      "execution_count": 29,
      "outputs": []
    },
    {
      "cell_type": "code",
      "source": [
        "X_tr, X_ts, y_tr, y_ts = train_test_split(X, y, test_size=0.3, random_state=42)\n",
        "\n",
        "# Retreina o modelo para que a curva fique mais próxima dos resultados que encontramos no cross-validation\n",
        "model_curvas = DecisionTreeClassifier(random_state = 42, \n",
        "                                  criterion = grid_fitted.best_params_['criterion'], \n",
        "                                   max_depth = grid_fitted.best_params_['max_depth'], \n",
        "                                   max_features = grid_fitted.best_params_['max_features'])\n",
        "\n",
        "# Realiza o treinamento do modelo nos dados de treino\n",
        "model_curvas.fit (X_tr, y_tr)\n",
        "\n",
        "plot_curva_roc(model_curvas, 'Decision Tree Classifier', X_ts, y_ts)"
      ],
      "metadata": {
        "colab": {
          "base_uri": "https://localhost:8080/",
          "height": 314
        },
        "id": "qDdo6GN1X13F",
        "outputId": "ea46982b-6d61-4d0f-e91c-c9ff8a0bf3d7"
      },
      "execution_count": 30,
      "outputs": [
        {
          "output_type": "stream",
          "name": "stdout",
          "text": [
            "No Skill: ROC AUC=0.500\n",
            "Decision Tree Classifier: ROC AUC=0.962\n"
          ]
        },
        {
          "output_type": "display_data",
          "data": {
            "image/png": "[encoded data removed]",
            "text/plain": [
              "<Figure size 432x288 with 1 Axes>"
            ]
          },
          "metadata": {
            "needs_background": "light"
          }
        }
      ]
    },
    {
      "cell_type": "code",
      "source": [
        "y_pred = model.predict(X_ts) \n",
        "y_pred_prob = model.predict_proba(X_ts)"
      ],
      "metadata": {
        "id": "8P3pFgJAXPrL"
      },
      "execution_count": 33,
      "outputs": []
    },
    {
      "cell_type": "markdown",
      "source": [
        "O método predict(), retorna a classe predita para todas as amostras em X_teste_norm. \n",
        "\n",
        "Já o método predict_proba() funciona da mesma maneira, porém, ao invés de retornar a classe escolhida pelo classificador, ele  retorna a probabilidade atribuida a cada uma delas. \n",
        "\n",
        "Obviamente, a quantidade de probabilidades retornadas vai depender do número de classes."
      ],
      "metadata": {
        "id": "wROAxlfqeOVb"
      }
    },
    {
      "cell_type": "code",
      "source": [
        "y_pred"
      ],
      "metadata": {
        "colab": {
          "base_uri": "https://localhost:8080/"
        },
        "id": "m8tC3RO9eJOW",
        "outputId": "d543fb85-6e44-4378-caf0-d9bb764cf37d"
      },
      "execution_count": 34,
      "outputs": [
        {
          "output_type": "execute_result",
          "data": {
            "text/plain": [
              "array([1, 0, 0, 1, 1, 0, 0, 0, 1, 1, 1, 0, 1, 0, 1, 0, 1, 1, 1, 0, 0, 1,\n",
              "       0, 1, 1, 1, 1, 1, 1, 0, 1, 1, 1, 1, 1, 1, 0, 1, 0, 1, 1, 0, 1, 1,\n",
              "       1, 1, 1, 1, 1, 1, 0, 0, 1, 1, 1, 1, 1, 0, 0, 1, 1, 0, 0, 1, 1, 1,\n",
              "       0, 0, 1, 1, 0, 0, 1, 0, 1, 1, 1, 0, 1, 1, 0, 1, 0, 0, 0, 0, 0, 0,\n",
              "       1, 1, 1, 1, 1, 1, 1, 1, 0, 0, 1, 0, 0, 1, 0, 0, 1, 1, 1, 0, 1, 1,\n",
              "       0, 1, 1, 0, 1, 0, 1, 1, 1, 0, 1, 1, 1, 0, 1, 0, 0, 1, 1, 0, 0, 0,\n",
              "       1, 1, 1, 0, 1, 1, 1, 0, 1, 0, 1, 1, 0, 1, 0, 0, 0, 1, 0, 1, 1, 1,\n",
              "       1, 0, 0, 1, 1, 1, 1, 1, 1, 1, 0, 1, 1, 1, 1, 0, 1])"
            ]
          },
          "metadata": {},
          "execution_count": 34
        }
      ]
    },
    {
      "cell_type": "code",
      "source": [
        "mat_conf = confusion_matrix(y_ts, y_pred)\n",
        "print(\"Matriz de confusão:\")\n",
        "print(mat_conf)"
      ],
      "metadata": {
        "colab": {
          "base_uri": "https://localhost:8080/"
        },
        "id": "XhwXfdNhe1cc",
        "outputId": "fd06ff66-86c8-430e-e741-576dad1f39d0"
      },
      "execution_count": 37,
      "outputs": [
        {
          "output_type": "stream",
          "name": "stdout",
          "text": [
            "Matriz de confusão:\n",
            "[[ 63   0]\n",
            " [  0 108]]\n"
          ]
        }
      ]
    },
    {
      "cell_type": "markdown",
      "source": [
        "Lembrando que a matriz de confusao é dada por:\n",
        "\n",
        "TP | FN\n",
        "\n",
        "------\n",
        "FP | TN"
      ],
      "metadata": {
        
        
        
        
        "id": "93uAnjPKfJux"
      }
    }
  ]
}
