{
  "nbformat": 4,
  "nbformat_minor": 0,
  "metadata": {
    "colab": {
      "name": "DecisionTreeClassifier_GridSearchCV.ipynb",
      "provenance": []
    },
    "kernelspec": {
      "name": "python3",
      "display_name": "Python 3"
    },
    "language_info": {
      "name": "python"
    }
  },
  "cells": [
    {
      "cell_type": "code",
      "execution_count": 3,
      "metadata": {
        "id": "Ma-O7my3Nveh"
      },
      "outputs": [],
      "source": [
        "import pandas as pd\n",
        "from sklearn.datasets import fetch_openml\n",
        "import matplotlib.pyplot as plt\n",
        "import seaborn as sns\n",
        "from sklearn.linear_model import LogisticRegression\n",
        "from sklearn.metrics import classification_report, confusion_matrix\n",
        "from sklearn.model_selection import train_test_split\n",
        "from sklearn.preprocessing import StandardScaler\n",
        "from sklearn.neural_network import MLPClassifier\n",
        "from sklearn.neighbors import KNeighborsClassifier\n",
        "from sklearn.svm import SVC\n",
        "from sklearn.gaussian_process import GaussianProcessClassifier\n",
        "from sklearn.gaussian_process.kernels import RBF\n",
        "from sklearn.tree import DecisionTreeClassifier\n",
        "from sklearn.ensemble import RandomForestClassifier, AdaBoostClassifier, GradientBoostingClassifier\n",
        "from sklearn.naive_bayes import GaussianNB\n",
        "from sklearn.discriminant_analysis import QuadraticDiscriminantAnalysis\n",
        "import numpy as np\n",
        "from sklearn import datasets"
      ]
    },
    {
      "cell_type": "code",
      "source": [
        "from sklearn.datasets import load_iris\n",
        "from sklearn.model_selection import cross_val_score\n",
        "from sklearn.tree import DecisionTreeClassifier"
      ],
      "metadata": {
        "id": "MjhvKTX9th4I"
      },
      "execution_count": 4,
      "outputs": []
    },
    {
      "cell_type": "code",
      "source": [
        "\n",
        "# Importação GridSearchCV.\n",
        "from sklearn.model_selection import GridSearchCV"
      ],
      "metadata": {
        "id": "QUluJyRfZ2Ka"
      },
      "execution_count": 5,
      "outputs": []
    },
    {
      "cell_type": "code",
      "source": [
        "#from google.colab import files\n",
        "#uploaded = files.upload()"
      ],
      "metadata": {
        "id": "X2t25_XRN2j1"
      },
      "execution_count": 6,
      "outputs": []
    },
    {
      "cell_type": "code",
      "source": [
        "# Dados de Câncer de mama.\n",
        "cancer = datasets.load_breast_cancer()\n",
        "\n",
        "# Criação do dataset features e vetor labels.\n",
        "features = cancer.data\n",
        "labels = cancer.target"
      ],
      "metadata": {
        "id": "rgcPv0pMa9Zz"
      },
      "execution_count": 7,
      "outputs": []
    },
    {
      "cell_type": "code",
      "source": [
        "# Só para evitar a aparição dos warnings.\n",
        "import warnings\n",
        "warnings.filterwarnings('ignore')"
      ],
      "metadata": {
        "id": "ta3--hXkN3IF"
      },
      "execution_count": 8,
      "outputs": []
    },
    {
      "cell_type": "markdown",
      "source": [
        "\n",
        "Classifier\n",
        "Adota-se como algoritmo para ajustar os parâmetros o AdaBoost.\n"
      ],
      "metadata": {
        "id": "dNS565wVZGTN"
      }
    },
    {
      "cell_type": "code",
      "source": [
        "# Sem nada dentro, pois vamos \"variar\" os parâmetros.\n",
        "clf = DecisionTreeClassifier(random_state=0)  \n",
        "iris = load_iris()\n",
        "\n"
      ],
      "metadata": {
        "id": "_ue08pNUN3lv"
      },
      "execution_count": 9,
      "outputs": []
    },
    {
      "cell_type": "code",
      "source": [
        "cross_val_score(clf, iris.data, iris.target, cv=10)"
      ],
      "metadata": {
        "colab": {
          "base_uri": "https://localhost:8080/"
        },
        "id": "qX9esclkuHKm",
        "outputId": "268f6e2b-81d1-4d10-f4a2-2e69c1d53f94"
      },
      "execution_count": 10,
      "outputs": [
        {
          "output_type": "execute_result",
          "data": {
            "text/plain": [
              "array([1.        , 0.93333333, 1.        , 0.93333333, 0.93333333,\n",
              "       0.86666667, 0.93333333, 1.        , 1.        , 1.        ])"
            ]
          },
          "metadata": {},
          "execution_count": 10
        }
      ]
    },
    {
      "cell_type": "markdown",
      "source": [
        "Criação de Combinações de Parâmetros\n",
        "Com base numa “lista”” de parâmetros o GridSearchCV criará as combinações e depois as avaliará, por exemplo, quero testar alguns valores de parâmetros de um AdaBoost. Os valores desta “lista” foram arbitrariamente escolhidos e sem nenhum critério técnico, o objetivo é encontrar valores otimizados.\n",
        "\n"
      ],
      "metadata": {
        "id": "QSkjx1NWZQiK"
      }
    },
    {
      "cell_type": "code",
      "source": [
        "\n",
        "# Exemplo dos parâmetros que quero testar.\n",
        "parametros = { 'criterion':['entropy','gini'],\n",
        "              'max_depth':[20,25]}"
      ],
      "metadata": {
        "id": "wxNeXkC_N3pZ"
      },
      "execution_count": 12,
      "outputs": []
    },
    {
      "cell_type": "code",
      "source": [
        "# Criação do objeto do GridSearchCV.\n",
        "grid = GridSearchCV(estimator = clf,          # É a nossa Arvore de Classificação.\n",
        "                    param_grid = parametros,  # É aquele dicionário com valores para serem testados.\n",
        "                    scoring = 'f1',           # Arbitrariamente escolhi o f1, adiante explico com detalhes.\n",
        "                    cv = 20)                  # Idem, arbitratiamente escolhi 20 e adiante será explanado."
      ],
      "metadata": {
        "id": "yK6jK09hN3t1"
      },
      "execution_count": 14,
      "outputs": []
    },
    {
      "cell_type": "code",
      "source": [
        "#Após a criação do objeto do GridSearchCV, pode-se treinar e imprimir os resultados.\n",
        "\n",
        "# Treinando o grid.\n",
        "grid.fit(features, labels)\n",
        "\n",
        "# Imprimindo os resultados.\n",
        "pd.DataFrame(grid.cv_results_)"
      ],
      "metadata": {
        "colab": {
          "base_uri": "https://localhost:8080/",
          "height": 441
        },
        "id": "zGxhQaQWN38a",
        "outputId": "ba7db1df-f08a-4e24-c717-37b23a028351"
      },
      "execution_count": 15,
      "outputs": [
        {
          "output_type": "execute_result",
          "data": {
            "text/html": [
              "\n",
              "  <div id=\"df-cdbad8c2-9b5f-4a5a-b35a-51a612c6fef1\">\n",
              "    <div class=\"colab-df-container\">\n",
              "      <div>\n",
              "<style scoped>\n",
              "    .dataframe tbody tr th:only-of-type {\n",
              "        vertical-align: middle;\n",
              "    }\n",
              "\n",
              "    .dataframe tbody tr th {\n",
              "        vertical-align: top;\n",
              "    }\n",
              "\n",
              "    .dataframe thead th {\n",
              "        text-align: right;\n",
              "    }\n",
              "</style>\n",
              "<table border=\"1\" class=\"dataframe\">\n",
              "  <thead>\n",
              "    <tr style=\"text-align: right;\">\n",
              "      <th></th>\n",
              "      <th>mean_fit_time</th>\n",
              "      <th>std_fit_time</th>\n",
              "      <th>mean_score_time</th>\n",
              "      <th>std_score_time</th>\n",
              "      <th>param_criterion</th>\n",
              "      <th>param_max_depth</th>\n",
              "      <th>params</th>\n",
              "      <th>split0_test_score</th>\n",
              "      <th>split1_test_score</th>\n",
              "      <th>split2_test_score</th>\n",
              "      <th>split3_test_score</th>\n",
              "      <th>split4_test_score</th>\n",
              "      <th>split5_test_score</th>\n",
              "      <th>split6_test_score</th>\n",
              "      <th>split7_test_score</th>\n",
              "      <th>split8_test_score</th>\n",
              "      <th>split9_test_score</th>\n",
              "      <th>split10_test_score</th>\n",
              "      <th>split11_test_score</th>\n",
              "      <th>split12_test_score</th>\n",
              "      <th>split13_test_score</th>\n",
              "      <th>split14_test_score</th>\n",
              "      <th>split15_test_score</th>\n",
              "      <th>split16_test_score</th>\n",
              "      <th>split17_test_score</th>\n",
              "      <th>split18_test_score</th>\n",
              "      <th>split19_test_score</th>\n",
              "      <th>mean_test_score</th>\n",
              "      <th>std_test_score</th>\n",
              "      <th>rank_test_score</th>\n",
              "    </tr>\n",
              "  </thead>\n",
              "  <tbody>\n",
              "    <tr>\n",
              "      <th>0</th>\n",
              "      <td>0.010150</td>\n",
              "      <td>0.000705</td>\n",
              "      <td>0.000816</td>\n",
              "      <td>0.000064</td>\n",
              "      <td>entropy</td>\n",
              "      <td>20</td>\n",
              "      <td>{'criterion': 'entropy', 'max_depth': 20}</td>\n",
              "      <td>0.944444</td>\n",
              "      <td>0.941176</td>\n",
              "      <td>0.944444</td>\n",
              "      <td>0.820513</td>\n",
              "      <td>0.944444</td>\n",
              "      <td>0.947368</td>\n",
              "      <td>0.914286</td>\n",
              "      <td>0.972973</td>\n",
              "      <td>0.947368</td>\n",
              "      <td>1.000000</td>\n",
              "      <td>0.971429</td>\n",
              "      <td>0.875000</td>\n",
              "      <td>0.918919</td>\n",
              "      <td>0.944444</td>\n",
              "      <td>0.972973</td>\n",
              "      <td>0.944444</td>\n",
              "      <td>0.914286</td>\n",
              "      <td>1.000000</td>\n",
              "      <td>0.944444</td>\n",
              "      <td>0.972973</td>\n",
              "      <td>0.941797</td>\n",
              "      <td>0.039926</td>\n",
              "      <td>1</td>\n",
              "    </tr>\n",
              "    <tr>\n",
              "      <th>1</th>\n",
              "      <td>0.010312</td>\n",
              "      <td>0.000683</td>\n",
              "      <td>0.000828</td>\n",
              "      <td>0.000056</td>\n",
              "      <td>entropy</td>\n",
              "      <td>25</td>\n",
              "      <td>{'criterion': 'entropy', 'max_depth': 25}</td>\n",
              "      <td>0.944444</td>\n",
              "      <td>0.941176</td>\n",
              "      <td>0.944444</td>\n",
              "      <td>0.820513</td>\n",
              "      <td>0.944444</td>\n",
              "      <td>0.947368</td>\n",
              "      <td>0.914286</td>\n",
              "      <td>0.972973</td>\n",
              "      <td>0.947368</td>\n",
              "      <td>1.000000</td>\n",
              "      <td>0.971429</td>\n",
              "      <td>0.875000</td>\n",
              "      <td>0.918919</td>\n",
              "      <td>0.944444</td>\n",
              "      <td>0.972973</td>\n",
              "      <td>0.944444</td>\n",
              "      <td>0.914286</td>\n",
              "      <td>1.000000</td>\n",
              "      <td>0.944444</td>\n",
              "      <td>0.972973</td>\n",
              "      <td>0.941797</td>\n",
              "      <td>0.039926</td>\n",
              "      <td>1</td>\n",
              "    </tr>\n",
              "    <tr>\n",
              "      <th>2</th>\n",
              "      <td>0.008599</td>\n",
              "      <td>0.000854</td>\n",
              "      <td>0.000950</td>\n",
              "      <td>0.000478</td>\n",
              "      <td>gini</td>\n",
              "      <td>20</td>\n",
              "      <td>{'criterion': 'gini', 'max_depth': 20}</td>\n",
              "      <td>0.947368</td>\n",
              "      <td>0.914286</td>\n",
              "      <td>0.914286</td>\n",
              "      <td>0.857143</td>\n",
              "      <td>0.944444</td>\n",
              "      <td>0.944444</td>\n",
              "      <td>0.823529</td>\n",
              "      <td>0.947368</td>\n",
              "      <td>0.944444</td>\n",
              "      <td>0.944444</td>\n",
              "      <td>0.941176</td>\n",
              "      <td>0.903226</td>\n",
              "      <td>0.918919</td>\n",
              "      <td>0.944444</td>\n",
              "      <td>0.944444</td>\n",
              "      <td>0.944444</td>\n",
              "      <td>0.971429</td>\n",
              "      <td>0.941176</td>\n",
              "      <td>1.000000</td>\n",
              "      <td>0.909091</td>\n",
              "      <td>0.930005</td>\n",
              "      <td>0.036976</td>\n",
              "      <td>3</td>\n",
              "    </tr>\n",
              "    <tr>\n",
              "      <th>3</th>\n",
              "      <td>0.008609</td>\n",
              "      <td>0.000904</td>\n",
              "      <td>0.000839</td>\n",
              "      <td>0.000132</td>\n",
              "      <td>gini</td>\n",
              "      <td>25</td>\n",
              "      <td>{'criterion': 'gini', 'max_depth': 25}</td>\n",
              "      <td>0.947368</td>\n",
              "      <td>0.914286</td>\n",
              "      <td>0.914286</td>\n",
              "      <td>0.857143</td>\n",
              "      <td>0.944444</td>\n",
              "      <td>0.944444</td>\n",
              "      <td>0.823529</td>\n",
              "      <td>0.947368</td>\n",
              "      <td>0.944444</td>\n",
              "      <td>0.944444</td>\n",
              "      <td>0.941176</td>\n",
              "      <td>0.903226</td>\n",
              "      <td>0.918919</td>\n",
              "      <td>0.944444</td>\n",
              "      <td>0.944444</td>\n",
              "      <td>0.944444</td>\n",
              "      <td>0.971429</td>\n",
              "      <td>0.941176</td>\n",
              "      <td>1.000000</td>\n",
              "      <td>0.909091</td>\n",
              "      <td>0.930005</td>\n",
              "      <td>0.036976</td>\n",
              "      <td>3</td>\n",
              "    </tr>\n",
              "  </tbody>\n",
              "</table>\n",
              "</div>\n",
              "      <button class=\"colab-df-convert\" onclick=\"convertToInteractive('df-cdbad8c2-9b5f-4a5a-b35a-51a612c6fef1')\"\n",
              "              title=\"Convert this dataframe to an interactive table.\"\n",
              "              style=\"display:none;\">\n",
              "        \n",
              "  <svg xmlns=\"http://www.w3.org/2000/svg\" height=\"24px\"viewBox=\"0 0 24 24\"\n",
              "       width=\"24px\">\n",
              "    <path d=\"M0 0h24v24H0V0z\" fill=\"none\"/>\n",
              "    <path d=\"M18.56 5.44l.94 2.06.94-2.06 2.06-.94-2.06-.94-.94-2.06-.94 2.06-2.06.94zm-11 1L8.5 8.5l.94-2.06 2.06-.94-2.06-.94L8.5 2.5l-.94 2.06-2.06.94zm10 10l.94 2.06.94-2.06 2.06-.94-2.06-.94-.94-2.06-.94 2.06-2.06.94z\"/><path d=\"M17.41 7.96l-1.37-1.37c-.4-.4-.92-.59-1.43-.59-.52 0-1.04.2-1.43.59L10.3 9.45l-7.72 7.72c-.78.78-.78 2.05 0 2.83L4 21.41c.39.39.9.59 1.41.59.51 0 1.02-.2 1.41-.59l7.78-7.78 2.81-2.81c.8-.78.8-2.07 0-2.86zM5.41 20L4 18.59l7.72-7.72 1.47 1.35L5.41 20z\"/>\n",
              "  </svg>\n",
              "      </button>\n",
              "      \n",
              "  <style>\n",
              "    .colab-df-container {\n",
              "      display:flex;\n",
              "      flex-wrap:wrap;\n",
              "      gap: 12px;\n",
              "    }\n",
              "\n",
              "    .colab-df-convert {\n",
              "      background-color: #E8F0FE;\n",
              "      border: none;\n",
              "      border-radius: 50%;\n",
              "      cursor: pointer;\n",
              "      display: none;\n",
              "      fill: #1967D2;\n",
              "      height: 32px;\n",
              "      padding: 0 0 0 0;\n",
              "      width: 32px;\n",
              "    }\n",
              "\n",
              "    .colab-df-convert:hover {\n",
              "      background-color: #E2EBFA;\n",
              "      box-shadow: 0px 1px 2px rgba(60, 64, 67, 0.3), 0px 1px 3px 1px rgba(60, 64, 67, 0.15);\n",
              "      fill: #174EA6;\n",
              "    }\n",
              "\n",
              "    [theme=dark] .colab-df-convert {\n",
              "      background-color: #3B4455;\n",
              "      fill: #D2E3FC;\n",
              "    }\n",
              "\n",
              "    [theme=dark] .colab-df-convert:hover {\n",
              "      background-color: #434B5C;\n",
              "      box-shadow: 0px 1px 3px 1px rgba(0, 0, 0, 0.15);\n",
              "      filter: drop-shadow(0px 1px 2px rgba(0, 0, 0, 0.3));\n",
              "      fill: #FFFFFF;\n",
              "    }\n",
              "  </style>\n",
              "\n",
              "      <script>\n",
              "        const buttonEl =\n",
              "          document.querySelector('#df-cdbad8c2-9b5f-4a5a-b35a-51a612c6fef1 button.colab-df-convert');\n",
              "        buttonEl.style.display =\n",
              "          google.colab.kernel.accessAllowed ? 'block' : 'none';\n",
              "\n",
              "        async function convertToInteractive(key) {\n",
              "          const element = document.querySelector('#df-cdbad8c2-9b5f-4a5a-b35a-51a612c6fef1');\n",
              "          const dataTable =\n",
              "            await google.colab.kernel.invokeFunction('convertToInteractive',\n",
              "                                                     [key], {});\n",
              "          if (!dataTable) return;\n",
              "\n",
              "          const docLinkHtml = 'Like what you see? Visit the ' +\n",
              "            '<a target=\"_blank\" href=https://colab.research.google.com/notebooks/data_table.ipynb>data table notebook</a>'\n",
              "            + ' to learn more about interactive tables.';\n",
              "          element.innerHTML = '';\n",
              "          dataTable['output_type'] = 'display_data';\n",
              "          await google.colab.output.renderOutput(dataTable, element);\n",
              "          const docLink = document.createElement('div');\n",
              "          docLink.innerHTML = docLinkHtml;\n",
              "          element.appendChild(docLink);\n",
              "        }\n",
              "      </script>\n",
              "    </div>\n",
              "  </div>\n",
              "  "
            ],
            "text/plain": [
              "   mean_fit_time  std_fit_time  ...  std_test_score  rank_test_score\n",
              "0       0.010150      0.000705  ...        0.039926                1\n",
              "1       0.010312      0.000683  ...        0.039926                1\n",
              "2       0.008599      0.000854  ...        0.036976                3\n",
              "3       0.008609      0.000904  ...        0.036976                3\n",
              "\n",
              "[4 rows x 30 columns]"
            ]
          },
          "metadata": {},
          "execution_count": 15
        }
      ]
    },
    {
      "cell_type": "markdown",
      "source": [
        "Há muitas colunas nesse resultado, então vamos fazer um subset escolhendo as colunas de interesse."
      ],
      "metadata": {
        "id": "28lO_hXEbG2D"
      }
    },
    {
      "cell_type": "code",
      "source": [
        "# Imprime colunas de interesse.\n",
        "pd.DataFrame(grid.cv_results_)[['params','rank_test_score','mean_test_score']]"
      ],
      "metadata": {
        "colab": {
          "base_uri": "https://localhost:8080/",
          "height": 173
        },
        "id": "2rnZ3dcPN4BZ",
        "outputId": "844cf562-ec01-480a-8bf6-824d9bae3a17"
      },
      "execution_count": 16,
      "outputs": [
        {
          "output_type": "execute_result",
          "data": {
            "text/html": [
              "\n",
              "  <div id=\"df-22c5376b-3cc4-4396-841f-617e29cc5a26\">\n",
              "    <div class=\"colab-df-container\">\n",
              "      <div>\n",
              "<style scoped>\n",
              "    .dataframe tbody tr th:only-of-type {\n",
              "        vertical-align: middle;\n",
              "    }\n",
              "\n",
              "    .dataframe tbody tr th {\n",
              "        vertical-align: top;\n",
              "    }\n",
              "\n",
              "    .dataframe thead th {\n",
              "        text-align: right;\n",
              "    }\n",
              "</style>\n",
              "<table border=\"1\" class=\"dataframe\">\n",
              "  <thead>\n",
              "    <tr style=\"text-align: right;\">\n",
              "      <th></th>\n",
              "      <th>params</th>\n",
              "      <th>rank_test_score</th>\n",
              "      <th>mean_test_score</th>\n",
              "    </tr>\n",
              "  </thead>\n",
              "  <tbody>\n",
              "    <tr>\n",
              "      <th>0</th>\n",
              "      <td>{'criterion': 'entropy', 'max_depth': 20}</td>\n",
              "      <td>1</td>\n",
              "      <td>0.941797</td>\n",
              "    </tr>\n",
              "    <tr>\n",
              "      <th>1</th>\n",
              "      <td>{'criterion': 'entropy', 'max_depth': 25}</td>\n",
              "      <td>1</td>\n",
              "      <td>0.941797</td>\n",
              "    </tr>\n",
              "    <tr>\n",
              "      <th>2</th>\n",
              "      <td>{'criterion': 'gini', 'max_depth': 20}</td>\n",
              "      <td>3</td>\n",
              "      <td>0.930005</td>\n",
              "    </tr>\n",
              "    <tr>\n",
              "      <th>3</th>\n",
              "      <td>{'criterion': 'gini', 'max_depth': 25}</td>\n",
              "      <td>3</td>\n",
              "      <td>0.930005</td>\n",
              "    </tr>\n",
              "  </tbody>\n",
              "</table>\n",
              "</div>\n",
              "      <button class=\"colab-df-convert\" onclick=\"convertToInteractive('df-22c5376b-3cc4-4396-841f-617e29cc5a26')\"\n",
              "              title=\"Convert this dataframe to an interactive table.\"\n",
              "              style=\"display:none;\">\n",
              "        \n",
              "  <svg xmlns=\"http://www.w3.org/2000/svg\" height=\"24px\"viewBox=\"0 0 24 24\"\n",
              "       width=\"24px\">\n",
              "    <path d=\"M0 0h24v24H0V0z\" fill=\"none\"/>\n",
              "    <path d=\"M18.56 5.44l.94 2.06.94-2.06 2.06-.94-2.06-.94-.94-2.06-.94 2.06-2.06.94zm-11 1L8.5 8.5l.94-2.06 2.06-.94-2.06-.94L8.5 2.5l-.94 2.06-2.06.94zm10 10l.94 2.06.94-2.06 2.06-.94-2.06-.94-.94-2.06-.94 2.06-2.06.94z\"/><path d=\"M17.41 7.96l-1.37-1.37c-.4-.4-.92-.59-1.43-.59-.52 0-1.04.2-1.43.59L10.3 9.45l-7.72 7.72c-.78.78-.78 2.05 0 2.83L4 21.41c.39.39.9.59 1.41.59.51 0 1.02-.2 1.41-.59l7.78-7.78 2.81-2.81c.8-.78.8-2.07 0-2.86zM5.41 20L4 18.59l7.72-7.72 1.47 1.35L5.41 20z\"/>\n",
              "  </svg>\n",
              "      </button>\n",
              "      \n",
              "  <style>\n",
              "    .colab-df-container {\n",
              "      display:flex;\n",
              "      flex-wrap:wrap;\n",
              "      gap: 12px;\n",
              "    }\n",
              "\n",
              "    .colab-df-convert {\n",
              "      background-color: #E8F0FE;\n",
              "      border: none;\n",
              "      border-radius: 50%;\n",
              "      cursor: pointer;\n",
              "      display: none;\n",
              "      fill: #1967D2;\n",
              "      height: 32px;\n",
              "      padding: 0 0 0 0;\n",
              "      width: 32px;\n",
              "    }\n",
              "\n",
              "    .colab-df-convert:hover {\n",
              "      background-color: #E2EBFA;\n",
              "      box-shadow: 0px 1px 2px rgba(60, 64, 67, 0.3), 0px 1px 3px 1px rgba(60, 64, 67, 0.15);\n",
              "      fill: #174EA6;\n",
              "    }\n",
              "\n",
              "    [theme=dark] .colab-df-convert {\n",
              "      background-color: #3B4455;\n",
              "      fill: #D2E3FC;\n",
              "    }\n",
              "\n",
              "    [theme=dark] .colab-df-convert:hover {\n",
              "      background-color: #434B5C;\n",
              "      box-shadow: 0px 1px 3px 1px rgba(0, 0, 0, 0.15);\n",
              "      filter: drop-shadow(0px 1px 2px rgba(0, 0, 0, 0.3));\n",
              "      fill: #FFFFFF;\n",
              "    }\n",
              "  </style>\n",
              "\n",
              "      <script>\n",
              "        const buttonEl =\n",
              "          document.querySelector('#df-22c5376b-3cc4-4396-841f-617e29cc5a26 button.colab-df-convert');\n",
              "        buttonEl.style.display =\n",
              "          google.colab.kernel.accessAllowed ? 'block' : 'none';\n",
              "\n",
              "        async function convertToInteractive(key) {\n",
              "          const element = document.querySelector('#df-22c5376b-3cc4-4396-841f-617e29cc5a26');\n",
              "          const dataTable =\n",
              "            await google.colab.kernel.invokeFunction('convertToInteractive',\n",
              "                                                     [key], {});\n",
              "          if (!dataTable) return;\n",
              "\n",
              "          const docLinkHtml = 'Like what you see? Visit the ' +\n",
              "            '<a target=\"_blank\" href=https://colab.research.google.com/notebooks/data_table.ipynb>data table notebook</a>'\n",
              "            + ' to learn more about interactive tables.';\n",
              "          element.innerHTML = '';\n",
              "          dataTable['output_type'] = 'display_data';\n",
              "          await google.colab.output.renderOutput(dataTable, element);\n",
              "          const docLink = document.createElement('div');\n",
              "          docLink.innerHTML = docLinkHtml;\n",
              "          element.appendChild(docLink);\n",
              "        }\n",
              "      </script>\n",
              "    </div>\n",
              "  </div>\n",
              "  "
            ],
            "text/plain": [
              "                                      params  rank_test_score  mean_test_score\n",
              "0  {'criterion': 'entropy', 'max_depth': 20}                1         0.941797\n",
              "1  {'criterion': 'entropy', 'max_depth': 25}                1         0.941797\n",
              "2     {'criterion': 'gini', 'max_depth': 20}                3         0.930005\n",
              "3     {'criterion': 'gini', 'max_depth': 25}                3         0.930005"
            ]
          },
          "metadata": {},
          "execution_count": 16
        }
      ]
    },
    {
      "cell_type": "markdown",
      "source": [
        "Conforme a tabela acima, o melhor resultado de f1 é produzido pelos parâmetros {'criterion': entropy, 'max_depth': 20}. O atributo .best_params_ pode ser usado também para obter os melhores parâmetros."
      ],
      "metadata": {
        "id": "3C2_EcezbNpT"
      }
    },
    {
      "cell_type": "code",
      "source": [
        "# Imprime os parâmetros que produziram o \".best_score_\".\n",
        "grid.best_params_"
      ],
      "metadata": {
        "colab": {
          "base_uri": "https://localhost:8080/"
        },
        "id": "ZhXDlqAzN4Fj",
        "outputId": "91b9ccc4-4f2d-4b20-dd5f-ed8f54dcf2e9"
      },
      "execution_count": 17,
      "outputs": [
        {
          "output_type": "execute_result",
          "data": {
            "text/plain": [
              "{'criterion': 'entropy', 'max_depth': 20}"
            ]
          },
          "metadata": {},
          "execution_count": 17
        }
      ]
    },
    {
      "cell_type": "markdown",
      "source": [
        "Bem como é possível imprimir o valor de f1 usando o atributo .best_score_."
      ],
      "metadata": {
        "id": "OaaM7-bCbWmR"
      }
    },
    {
      "cell_type": "code",
      "source": [
        "# Imprimindo o score.\n",
        "grid.best_score_"
      ],
      "metadata": {
        "colab": {
          "base_uri": "https://localhost:8080/"
        },
        "id": "V3_WUE8MN4Oa",
        "outputId": "ef71e70c-6398-48c7-ca53-5c3f05a0719d"
      },
      "execution_count": 18,
      "outputs": [
        {
          "output_type": "execute_result",
          "data": {
            "text/plain": [
              "0.941796531885541"
            ]
          },
          "metadata": {},
          "execution_count": 18
        }
      ]
    },
    {
      "cell_type": "markdown",
      "source": [
        "***Cross Validation***\n",
        "\n",
        "*Uma pequena revisão.*\n",
        "\n",
        "O que é Cross Validation?\n",
        "É o uso de um dataset independente para avaliar o grau e a capacidade de generalização do seu modelo."
      ],
      "metadata": {
        "id": "mqKmnJfZbf-6"
      }
    },
    {
      "cell_type": "markdown",
      "source": [
        "Note que o objeto grid foi definido com cv = 20 e quando cv é um número inteiro o GridSearchCV executa um StratifiedKFolds, isso quer dizer que o dataset foi divido em 20 partes (ou folds) e cada parte foi usada como test em uma simulação."
      ],
      "metadata": {
        "id": "c9j_D_P9bmAJ"
      }
    },
    {
      "cell_type": "code",
      "source": [
        "# Exemplo para o uso do StratifiedKFolds com 5 folds.\n",
        "grid_2 = GridSearchCV(estimator = clf,\n",
        "                      param_grid = parametros,\n",
        "                      cv = 5,\n",
        "                      scoring = 'f1')\n",
        "\n",
        "# Imprime o f1\n",
        "grid_2.fit(features,labels).best_score_\n"
      ],
      "metadata": {
        "colab": {
          "base_uri": "https://localhost:8080/"
        },
        "id": "Hc75kSmkN4SD",
        "outputId": "c1c14d35-f014-48ea-bbbb-ef5e9f825b04"
      },
      "execution_count": 19,
      "outputs": [
        {
          "output_type": "execute_result",
          "data": {
            "text/plain": [
              "0.9483386869331364"
            ]
          },
          "metadata": {},
          "execution_count": 19
        }
      ]
    },
    {
      "cell_type": "markdown",
      "source": [
        "O cv também aceita a atribuição de um objeto do StratifiedShuffleSplit, neste caso é necessário a definição da quantidade de n_splits e o tamanho do dataset de testes."
      ],
      "metadata": {
        "id": "QiaiB0Mmbqrw"
      }
    },
    {
      "cell_type": "code",
      "source": [
        "# Exemplo para o uso do StratifiedShuffleSplit.\n",
        "\n",
        "# Importação do módulo do StratifiedShuffleSplit.\n",
        "from sklearn.model_selection import StratifiedShuffleSplit\n",
        "\n",
        "# Usando o constructor para criar o objeto sss\n",
        "sss = StratifiedShuffleSplit(n_splits = 20,       # 20 simulações.\n",
        "                             test_size = 0.2,     # 20% do dataset será de testes.\n",
        "                             random_state = 42)   # Permitir a reprodutibilidade.\n",
        "\n",
        "# Criando um objeto do GridSearchCV\n",
        "grid_3 = GridSearchCV(estimator = clf,\n",
        "                      param_grid = parametros,\n",
        "                      cv = sss,\n",
        "                      scoring = 'f1')\n",
        "\n",
        "# Imprime o f1\n",
        "grid_3.fit(features,labels).best_score_"
      ],
      "metadata": {
        "colab": {
          "base_uri": "https://localhost:8080/"
        },
        "id": "Q7nWkk53bdsB",
        "outputId": "0af09791-a2da-4ecd-f316-c91c87ea6a80"
      },
      "execution_count": 20,
      "outputs": [
        {
          "output_type": "execute_result",
          "data": {
            "text/plain": [
              "0.945398037061391"
            ]
          },
          "metadata": {},
          "execution_count": 20
        }
      ]
    },
    {
      "cell_type": "markdown",
      "source": [
        "Por fim, há a opção de não usar o cv do GridSearchCV, isto seria feito omitindo-o."
      ],
      "metadata": {
        "id": "NosMI-J4bxoY"
      }
    },
    {
      "cell_type": "code",
      "source": [
        "# Exemplo do GridSearchCV sem cv. Demanda um cv manual.\n",
        "\n",
        "# Criando um objeto do GridSearchCV sem cv.\n",
        "grid_4 = GridSearchCV(estimator = clf,\n",
        "                      param_grid = parametros,\n",
        "                      scoring = 'f1')\n",
        "\n",
        "# Imprime o f1\n",
        "grid_4.fit(features,labels).best_score_"
      ],
      "metadata": {
        "colab": {
          "base_uri": "https://localhost:8080/"
        },
        "id": "rNvp4MCWbeWo",
        "outputId": "37385d15-ba94-4109-ea3e-81f1c3305dd0"
      },
      "execution_count": 21,
      "outputs": [
        {
          "output_type": "execute_result",
          "data": {
            "text/plain": [
              "0.9483386869331364"
            ]
          },
          "metadata": {},
          "execution_count": 21
        }
      ]
    },
    {
      "cell_type": "markdown",
      "source": [
        "Note que nessas alternativas de cross validation o objetivo é usar métricas para a escolha do modelo que não sejam superestimadas, evitando assim o problema de overfitting."
      ],
      "metadata": {
        "id": "JLtafah8b2fH"
      }
    },
    {
      "cell_type": "markdown",
      "source": [
        "Scoring\n",
        "> Cada simulação terá como base de avaliação o scoring, e a configuração básica seria a definição de uma das métricas:\n",
        "\n",
        ">recall;\n",
        ">precision;\n",
        ">accuracy, e/ou;\n",
        ">f1 ou fbeta_score.\n",
        "\n",
        "Logo, os resultados apresentados no atributo .cv_results_ cujas colunas possuam o sufixo _score referem-se ao scoring definido, para os exemplos anteriores usou-se o f1.\n",
        "\n",
        "Contudo, há casos onde se necessita a avaliação de não só de um parâmetro, mas de vários. Dessa maneira, introduz-se o make_scorer (leia a documentação do make_scorer), com esse módulo é possível fazer com que o GridSearchCV calcule diversos parâmetros."
      ],
      "metadata": {
        "id": "SuYCLqKlb4vX"
      }
    },
    {
      "cell_type": "code",
      "source": [
        "# Importando o Make Scorer\n",
        "from sklearn.metrics import make_scorer\n",
        "\n",
        "# Importando os módulos de cálculo de métricas\n",
        "from sklearn.metrics import precision_score\n",
        "from sklearn.metrics import accuracy_score\n",
        "from sklearn.metrics import recall_score\n",
        "from sklearn.metrics import fbeta_score\n",
        "\n",
        "# Criando um dicionário com as métricas que desejo calcular.\n",
        "meus_scores = {'accuracy' :make_scorer(accuracy_score),\n",
        "               'recall'   :make_scorer(recall_score),\n",
        "               'precision':make_scorer(precision_score),\n",
        "               'f1'       :make_scorer(fbeta_score, beta = 1)}\n",
        "\n",
        "# Exemplo para o uso scoring igual ao meus_scores.\n",
        "grid_5 = GridSearchCV(estimator = clf,\n",
        "                      param_grid = parametros,\n",
        "                      cv = 5,\n",
        "                      scoring = meus_scores,   # É o meus_scores\n",
        "                      refit = 'f1')            # Observe que foi configurado para f1"
      ],
      "metadata": {
        "id": "lkJy-Y8ubfCb"
      },
      "execution_count": 22,
      "outputs": []
    },
    {
      "cell_type": "markdown",
      "source": [
        "Espera-se que o grid_5 possua novas colunas das quais tenha sufixos accuracy, recall, precision e f1. Vamos imprimir os nomes das colunas."
      ],
      "metadata": {
        "id": "POmRam0qcJTt"
      }
    },
    {
      "cell_type": "markdown",
      "source": [
        "O GridSearchCV é uma ferramenta que automatiza muito das etapas repetitivas do processo de tuning, contudo há diversas peculariedades no uso dela que a tornam um pouco traiçoeira.\n",
        "\n",
        "É preciso ter em mente que o refit se faz necessário quando se usa o make_scorer pode não levar em consideração todas as métricas para selecionar a melhor solução, sendo assim só a métrica definida no refit usada para eligir os melhores parâmetros."
      ],
      "metadata": {
        "id": "BWFtSxLAcg6h"
      }
    },
    {
      "cell_type": "code",
      "source": [
        ""
      ],
      "metadata": {
        "id": "LYjTiu2OcRO7"
      },
      "execution_count": null,
      "outputs": []
    },
    {
      "cell_type": "code",
      "source": [
        ""
      ],
      "metadata": {
        "id": "CxAGXz0BcQs8"
      },
      "execution_count": null,
      "outputs": []
    },
    {
      "cell_type": "code",
      "source": [
        ""
      ],
      "metadata": {
        "id": "EUW5u0ajcQFb"
      },
      "execution_count": null,
      "outputs": []
    },
    {
      "cell_type": "code",
      "source": [
        ""
      ],
      "metadata": {
        "id": "UO4lRF4IcP-i"
      },
      "execution_count": null,
      "outputs": []
    },
    {
      "cell_type": "code",
      "source": [
        ""
      ],
      "metadata": {
        "id": "7oYqeK5ScPXW"
      },
      "execution_count": null,
      "outputs": []
    }
  ]
}